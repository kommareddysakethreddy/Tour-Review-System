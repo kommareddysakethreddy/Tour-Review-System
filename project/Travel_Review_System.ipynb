{
  "cells": [
    {
      "cell_type": "code",
      "execution_count": 1,
      "metadata": {
        "id": "-1_scS91c0dC"
      },
      "outputs": [],
      "source": [
        "#importing libraries\n",
        "import pandas as pd\n",
        "import numpy as np\n",
        "from collections import Counter\n",
        "import tensorflow as tf\n",
        "import regex as re\n",
        "from tensorflow.keras.preprocessing.text import Tokenizer\n",
        "from tensorflow.keras.preprocessing.sequence import pad_sequences"
      ]
    },
    {
      "cell_type": "code",
      "execution_count": 2,
      "metadata": {},
      "outputs": [],
      "source": [
        "# importing to_categorical from keras\n",
        "from tensorflow.keras.utils import to_categorical"
      ]
    },
    {
      "cell_type": "code",
      "execution_count": 3,
      "metadata": {
        "id": "s8ainfw9fEWo"
      },
      "outputs": [],
      "source": [
        "#importing NLTK libraries\n",
        "import nltk\n",
        "from nltk.corpus import stopwords\n",
        "from nltk.stem import WordNetLemmatizer"
      ]
    },
    {
      "cell_type": "code",
      "execution_count": 4,
      "metadata": {
        "id": "hXwXHYA2faQA"
      },
      "outputs": [],
      "source": [
        "# importing visualisation libraries\n",
        "import matplotlib.pyplot as plt\n",
        "import seaborn as sns"
      ]
    },
    {
      "cell_type": "code",
      "execution_count": 5,
      "metadata": {
        "id": "xlG-ajNbjnl4"
      },
      "outputs": [],
      "source": [
        "#importing Model Building libraries\n",
        "from sklearn.model_selection import train_test_split\n",
        "from sklearn import preprocessing\n",
        "from sklearn.preprocessing import scale"
      ]
    },
    {
      "cell_type": "code",
      "execution_count": 6,
      "metadata": {
        "id": "U-o-DgieeQXI"
      },
      "outputs": [
        {
          "data": {
            "text/html": [
              "<div>\n",
              "<style scoped>\n",
              "    .dataframe tbody tr th:only-of-type {\n",
              "        vertical-align: middle;\n",
              "    }\n",
              "\n",
              "    .dataframe tbody tr th {\n",
              "        vertical-align: top;\n",
              "    }\n",
              "\n",
              "    .dataframe thead th {\n",
              "        text-align: right;\n",
              "    }\n",
              "</style>\n",
              "<table border=\"1\" class=\"dataframe\">\n",
              "  <thead>\n",
              "    <tr style=\"text-align: right;\">\n",
              "      <th></th>\n",
              "      <th>Review</th>\n",
              "      <th>Rating</th>\n",
              "    </tr>\n",
              "  </thead>\n",
              "  <tbody>\n",
              "    <tr>\n",
              "      <th>0</th>\n",
              "      <td>nice hotel expensive parking got good deal sta...</td>\n",
              "      <td>4</td>\n",
              "    </tr>\n",
              "    <tr>\n",
              "      <th>1</th>\n",
              "      <td>ok nothing special charge diamond member hilto...</td>\n",
              "      <td>2</td>\n",
              "    </tr>\n",
              "    <tr>\n",
              "      <th>2</th>\n",
              "      <td>nice rooms not 4* experience hotel monaco seat...</td>\n",
              "      <td>3</td>\n",
              "    </tr>\n",
              "    <tr>\n",
              "      <th>3</th>\n",
              "      <td>unique, great stay, wonderful time hotel monac...</td>\n",
              "      <td>5</td>\n",
              "    </tr>\n",
              "    <tr>\n",
              "      <th>4</th>\n",
              "      <td>great stay great stay, went seahawk game aweso...</td>\n",
              "      <td>5</td>\n",
              "    </tr>\n",
              "  </tbody>\n",
              "</table>\n",
              "</div>"
            ],
            "text/plain": [
              "                                              Review  Rating\n",
              "0  nice hotel expensive parking got good deal sta...       4\n",
              "1  ok nothing special charge diamond member hilto...       2\n",
              "2  nice rooms not 4* experience hotel monaco seat...       3\n",
              "3  unique, great stay, wonderful time hotel monac...       5\n",
              "4  great stay great stay, went seahawk game aweso...       5"
            ]
          },
          "execution_count": 6,
          "metadata": {},
          "output_type": "execute_result"
        }
      ],
      "source": [
        "df=pd.read_csv('tripadvisor_hotel_reviews.csv')\n",
        "df.head()"
      ]
    },
    {
      "cell_type": "code",
      "execution_count": 7,
      "metadata": {
        "id": "VLyHiNhQVwQm"
      },
      "outputs": [
        {
          "data": {
            "text/plain": [
              "5    9054\n",
              "4    6039\n",
              "3    2184\n",
              "2    1793\n",
              "1    1421\n",
              "Name: Rating, dtype: int64"
            ]
          },
          "execution_count": 7,
          "metadata": {},
          "output_type": "execute_result"
        }
      ],
      "source": [
        "df['Rating'].value_counts()"
      ]
    },
    {
      "cell_type": "code",
      "execution_count": 8,
      "metadata": {
        "id": "IgynlqN0VrIz"
      },
      "outputs": [],
      "source": [
        "X = df['Review']\n",
        "y = df['Rating'] -1"
      ]
    },
    {
      "cell_type": "code",
      "execution_count": 9,
      "metadata": {
        "id": "XCvJcbBcU7sr"
      },
      "outputs": [],
      "source": [
        "df['num_words'] = X.apply(lambda x: len(x.split()))"
      ]
    },
    {
      "cell_type": "code",
      "execution_count": 10,
      "metadata": {
        "id": "KbyWc9HUWJGs"
      },
      "outputs": [
        {
          "data": {
            "text/html": [
              "<div>\n",
              "<style scoped>\n",
              "    .dataframe tbody tr th:only-of-type {\n",
              "        vertical-align: middle;\n",
              "    }\n",
              "\n",
              "    .dataframe tbody tr th {\n",
              "        vertical-align: top;\n",
              "    }\n",
              "\n",
              "    .dataframe thead th {\n",
              "        text-align: right;\n",
              "    }\n",
              "</style>\n",
              "<table border=\"1\" class=\"dataframe\">\n",
              "  <thead>\n",
              "    <tr style=\"text-align: right;\">\n",
              "      <th></th>\n",
              "      <th>Review</th>\n",
              "      <th>Rating</th>\n",
              "      <th>num_words</th>\n",
              "    </tr>\n",
              "  </thead>\n",
              "  <tbody>\n",
              "    <tr>\n",
              "      <th>0</th>\n",
              "      <td>nice hotel expensive parking got good deal sta...</td>\n",
              "      <td>4</td>\n",
              "      <td>87</td>\n",
              "    </tr>\n",
              "    <tr>\n",
              "      <th>1</th>\n",
              "      <td>ok nothing special charge diamond member hilto...</td>\n",
              "      <td>2</td>\n",
              "      <td>250</td>\n",
              "    </tr>\n",
              "    <tr>\n",
              "      <th>2</th>\n",
              "      <td>nice rooms not 4* experience hotel monaco seat...</td>\n",
              "      <td>3</td>\n",
              "      <td>217</td>\n",
              "    </tr>\n",
              "    <tr>\n",
              "      <th>3</th>\n",
              "      <td>unique, great stay, wonderful time hotel monac...</td>\n",
              "      <td>5</td>\n",
              "      <td>89</td>\n",
              "    </tr>\n",
              "    <tr>\n",
              "      <th>4</th>\n",
              "      <td>great stay great stay, went seahawk game aweso...</td>\n",
              "      <td>5</td>\n",
              "      <td>191</td>\n",
              "    </tr>\n",
              "  </tbody>\n",
              "</table>\n",
              "</div>"
            ],
            "text/plain": [
              "                                              Review  Rating  num_words\n",
              "0  nice hotel expensive parking got good deal sta...       4         87\n",
              "1  ok nothing special charge diamond member hilto...       2        250\n",
              "2  nice rooms not 4* experience hotel monaco seat...       3        217\n",
              "3  unique, great stay, wonderful time hotel monac...       5         89\n",
              "4  great stay great stay, went seahawk game aweso...       5        191"
            ]
          },
          "execution_count": 10,
          "metadata": {},
          "output_type": "execute_result"
        }
      ],
      "source": [
        "df.head()"
      ]
    },
    {
      "cell_type": "code",
      "execution_count": 11,
      "metadata": {
        "id": "7bTLjoigWNBI"
      },
      "outputs": [
        {
          "data": {
            "text/plain": [
              "Text(0.5, 1.0, 'Distribution of the Words count')"
            ]
          },
          "execution_count": 11,
          "metadata": {},
          "output_type": "execute_result"
        },
        {
          "data": {
            "image/png": "[encoded data removed]",
            "text/plain": [
              "<Figure size 1400x500 with 1 Axes>"
            ]
          },
          "metadata": {},
          "output_type": "display_data"
        }
      ],
      "source": [
        "plt.figure(figsize = (14,5))\n",
        "sns.histplot(df['num_words'], bins = range(1, 1000, 50))\n",
        "plt.title('Distribution of the Words count')"
      ]
    },
    {
      "cell_type": "code",
      "execution_count": 12,
      "metadata": {
        "id": "dY9FkVw2mw1g"
      },
      "outputs": [
        {
          "name": "stdout",
          "output_type": "stream",
          "text": [
            "False\n",
            "(20491,)\n"
          ]
        }
      ],
      "source": [
        "print(X.isnull().values.any())\n",
        "print(X.shape)"
      ]
    },
    {
      "cell_type": "markdown",
      "metadata": {
        "id": "5DsKz2B6gEVp"
      },
      "source": [
        "## PRE PROCESSING"
      ]
    },
    {
      "cell_type": "code",
      "execution_count": 13,
      "metadata": {
        "id": "XtnVb8rjgKAA"
      },
      "outputs": [],
      "source": [
        "# Converting text to lowercase\n",
        "reviews=X.str.lower()   "
      ]
    },
    {
      "cell_type": "code",
      "execution_count": 14,
      "metadata": {
        "id": "db8Bg6SdzymP"
      },
      "outputs": [
        {
          "data": {
            "text/plain": [
              "(20491,)"
            ]
          },
          "execution_count": 14,
          "metadata": {},
          "output_type": "execute_result"
        }
      ],
      "source": [
        "X.shape"
      ]
    },
    {
      "cell_type": "code",
      "execution_count": 15,
      "metadata": {
        "id": "eAUCoaLynZnR"
      },
      "outputs": [],
      "source": [
        "tag_rem = re.compile(r'<[^>]+>')\n",
        "\n",
        "def remove_tags(text):\n",
        "    return tag_rem.sub('', text)"
      ]
    },
    {
      "cell_type": "code",
      "execution_count": 16,
      "metadata": {
        "id": "fs73POZIkh4A"
      },
      "outputs": [],
      "source": [
        "def preprocess_text(sen):\n",
        "    # Removing html tags\n",
        "    sentence = remove_tags(sen)\n",
        "\n",
        "    # Remove punctuations and numbers\n",
        "    sentence = re.sub('[^a-zA-Z]', ' ', sentence)\n",
        "\n",
        "    # Single character removal\n",
        "    sentence = re.sub(r\"[\\s\\n\\t].[\\s\\n\\t]\", ' ', sentence)\n",
        "\n",
        "    # Removing multiple spaces\n",
        "    sentence = re.sub(r'\\s+', ' ', sentence)\n",
        "    \n",
        "    sentence = sentence.strip().split()\n",
        "\n",
        "    return sentence"
      ]
    },
    {
      "cell_type": "code",
      "execution_count": 17,
      "metadata": {
        "id": "UJwrHfmwoQ-6"
      },
      "outputs": [],
      "source": [
        "reviews_list = []\n",
        "sentences = list(X)\n",
        "for sen in sentences:\n",
        "    reviews_list.append(preprocess_text(sen))"
      ]
    },
    {
      "cell_type": "code",
      "execution_count": 18,
      "metadata": {
        "id": "FldoMjs0VIwS"
      },
      "outputs": [
        {
          "name": "stderr",
          "output_type": "stream",
          "text": [
            "[nltk_data] Downloading package punkt to\n",
            "[nltk_data]     C:\\Users\\saket\\AppData\\Roaming\\nltk_data...\n",
            "[nltk_data]   Package punkt is already up-to-date!\n",
            "[nltk_data] Downloading package stopwords to\n",
            "[nltk_data]     C:\\Users\\saket\\AppData\\Roaming\\nltk_data...\n",
            "[nltk_data]   Package stopwords is already up-to-date!\n",
            "[nltk_data] Downloading package wordnet to\n",
            "[nltk_data]     C:\\Users\\saket\\AppData\\Roaming\\nltk_data...\n",
            "[nltk_data]   Package wordnet is already up-to-date!\n",
            "[nltk_data] Downloading package omw-1.4 to\n",
            "[nltk_data]     C:\\Users\\saket\\AppData\\Roaming\\nltk_data...\n",
            "[nltk_data]   Package omw-1.4 is already up-to-date!\n"
          ]
        }
      ],
      "source": [
        "import nltk\n",
        "nltk.download('punkt')\n",
        "nltk.download('stopwords')\n",
        "nltk.download('wordnet')\n",
        "nltk.download('omw-1.4')\n",
        "lemmatizer = WordNetLemmatizer()"
      ]
    },
    {
      "cell_type": "code",
      "execution_count": 19,
      "metadata": {
        "id": "0roBsHv3VDFb"
      },
      "outputs": [],
      "source": [
        "stopwords = stopwords.words('english')"
      ]
    },
    {
      "cell_type": "code",
      "execution_count": 20,
      "metadata": {
        "id": "E6G76D8FrSLD"
      },
      "outputs": [],
      "source": [
        "def customtokenize(stri):\n",
        "    \n",
        "    #Filter for stopwords\n",
        "    nostop = list(filter(lambda token: token not in stopwords, stri))\n",
        "    #Perform lemmatization\n",
        "    lemmatized=[lemmatizer.lemmatize(str(word)) for word in nostop ]\n",
        "    \n",
        "    return lemmatized"
      ]
    },
    {
      "cell_type": "code",
      "execution_count": 21,
      "metadata": {
        "id": "oWg0_1yk191Q"
      },
      "outputs": [],
      "source": [
        "lemmatized_reviews=customtokenize(reviews_list)"
      ]
    },
    {
      "cell_type": "code",
      "execution_count": 22,
      "metadata": {},
      "outputs": [],
      "source": [
        "##define the parameters for tokenizing and padding\n",
        "vocab_size = 100000\n",
        "embedding_dim = 32\n",
        "max_length = 200\n",
        "padding_type = 'post'\n",
        "trunc_type='post'\n",
        "oov_tok = \"<OOV>\"\n",
        "tokenizer = Tokenizer(num_words = vocab_size, oov_token=oov_tok)"
      ]
    },
    {
      "cell_type": "code",
      "execution_count": 23,
      "metadata": {
        "id": "-8veK8kTSQ1-"
      },
      "outputs": [],
      "source": [
        "tokenizer.fit_on_texts(reviews_list)"
      ]
    },
    {
      "cell_type": "code",
      "execution_count": 24,
      "metadata": {},
      "outputs": [],
      "source": [
        "import pickle"
      ]
    },
    {
      "cell_type": "code",
      "execution_count": 25,
      "metadata": {},
      "outputs": [],
      "source": [
        "with open('tokenizer_data.pkl', 'wb') as handle:\n",
        "    pickle.dump(\n",
        "        {'tokenizer': tokenizer}, handle)"
      ]
    },
    {
      "cell_type": "code",
      "execution_count": 25,
      "metadata": {
        "id": "Btu1v14uQlJb"
      },
      "outputs": [],
      "source": [
        "mappings=tokenizer.word_index"
      ]
    },
    {
      "cell_type": "code",
      "execution_count": 26,
      "metadata": {
        "id": "_CXylWfFRqb-"
      },
      "outputs": [
        {
          "data": {
            "text/plain": [
              "49130"
            ]
          },
          "execution_count": 26,
          "metadata": {},
          "output_type": "execute_result"
        }
      ],
      "source": [
        "len(mappings)"
      ]
    },
    {
      "cell_type": "code",
      "execution_count": 27,
      "metadata": {
        "id": "qNbUuyo42_LL"
      },
      "outputs": [],
      "source": [
        "from nltk.inference.resolution import test_clausify\n",
        "from tensorflow import keras\n",
        "from keras.callbacks import EarlyStopping"
      ]
    },
    {
      "cell_type": "code",
      "execution_count": 28,
      "metadata": {
        "id": "AONPwEQQXvEN"
      },
      "outputs": [],
      "source": [
        "train_seqs = tokenizer.texts_to_sequences(X)\n",
        "padded_sequences = keras.preprocessing.sequence.pad_sequences(train_seqs ,padding=\"post\",maxlen=max_length,truncating=\"post\")\n",
        "\n",
        "# Split the data into training and testing sets\n",
        "train_data, test_data, train_labels, test_labels = train_test_split(padded_sequences, y, random_state = 1)\n"
      ]
    },
    {
      "cell_type": "code",
      "execution_count": 29,
      "metadata": {},
      "outputs": [],
      "source": [
        "train_labels = to_categorical(train_labels)\n",
        "test_labels = to_categorical(test_labels)"
      ]
    },
    {
      "cell_type": "code",
      "execution_count": 30,
      "metadata": {},
      "outputs": [
        {
          "data": {
            "text/plain": [
              "array([[0., 0., 0., 0., 1.],\n",
              "       [0., 0., 0., 1., 0.],\n",
              "       [0., 0., 1., 0., 0.],\n",
              "       ...,\n",
              "       [0., 0., 0., 0., 1.],\n",
              "       [0., 0., 0., 0., 1.],\n",
              "       [0., 0., 0., 1., 0.]], dtype=float32)"
            ]
          },
          "execution_count": 30,
          "metadata": {},
          "output_type": "execute_result"
        }
      ],
      "source": [
        "train_labels"
      ]
    },
    {
      "cell_type": "code",
      "execution_count": 31,
      "metadata": {},
      "outputs": [
        {
          "name": "stdout",
          "output_type": "stream",
          "text": [
            "Model: \"sequential\"\n",
            "_________________________________________________________________\n",
            " Layer (type)                Output Shape              Param #   \n",
            "=================================================================\n",
            " dense (Dense)               (None, 128)               25728     \n",
            "                                                                 \n",
            " dropout (Dropout)           (None, 128)               0         \n",
            "                                                                 \n",
            " dense_1 (Dense)             (None, 128)               16512     \n",
            "                                                                 \n",
            " dropout_1 (Dropout)         (None, 128)               0         \n",
            "                                                                 \n",
            " dense_2 (Dense)             (None, 128)               16512     \n",
            "                                                                 \n",
            " dropout_2 (Dropout)         (None, 128)               0         \n",
            "                                                                 \n",
            " dense_3 (Dense)             (None, 64)                8256      \n",
            "                                                                 \n",
            " dropout_3 (Dropout)         (None, 64)                0         \n",
            "                                                                 \n",
            " dense_4 (Dense)             (None, 5)                 325       \n",
            "                                                                 \n",
            "=================================================================\n",
            "Total params: 67,333\n",
            "Trainable params: 67,333\n",
            "Non-trainable params: 0\n",
            "_________________________________________________________________\n"
          ]
        }
      ],
      "source": [
        "model_mlp = tf.keras.Sequential([\n",
        "    tf.keras.layers.Dense(128, activation='selu', input_shape=(200,)),\n",
        "    tf.keras.layers.Dropout(0.5),\n",
        "    tf.keras.layers.Dense(128, activation='selu'),\n",
        "    tf.keras.layers.Dropout(0.5),\n",
        "    tf.keras.layers.Dense(128, activation='selu'),\n",
        "    tf.keras.layers.Dropout(0.5),\n",
        "    tf.keras.layers.Dense(64, activation='selu'),\n",
        "    tf.keras.layers.Dropout(0.5),\n",
        "    tf.keras.layers.Dense(5, activation='softmax')\n",
        "])\n",
        "model_mlp.compile(loss='categorical_crossentropy',optimizer='adam',metrics=['accuracy'])\n",
        "model_mlp.summary()"
      ]
    },
    {
      "cell_type": "code",
      "execution_count": 32,
      "metadata": {},
      "outputs": [
        {
          "name": "stdout",
          "output_type": "stream",
          "text": [
            "Epoch 1/15\n",
            "239/241 [============================>.] - ETA: 0s - loss: 1002.7399 - accuracy: 0.2785WARNING:tensorflow:Early stopping conditioned on metric `val_acc` which is not available. Available metrics are: loss,accuracy,val_loss,val_accuracy\n",
            "241/241 [==============================] - 8s 13ms/step - loss: 999.3583 - accuracy: 0.2782 - val_loss: 7.2275 - val_accuracy: 0.2001\n",
            "Epoch 2/15\n",
            "240/241 [============================>.] - ETA: 0s - loss: 81.5633 - accuracy: 0.2005WARNING:tensorflow:Early stopping conditioned on metric `val_acc` which is not available. Available metrics are: loss,accuracy,val_loss,val_accuracy\n",
            "241/241 [==============================] - 2s 10ms/step - loss: 81.5259 - accuracy: 0.2005 - val_loss: 3.8455 - val_accuracy: 0.0716\n",
            "Epoch 3/15\n",
            "237/241 [============================>.] - ETA: 0s - loss: 20.1412 - accuracy: 0.1455WARNING:tensorflow:Early stopping conditioned on metric `val_acc` which is not available. Available metrics are: loss,accuracy,val_loss,val_accuracy\n",
            "241/241 [==============================] - 2s 10ms/step - loss: 20.0011 - accuracy: 0.1459 - val_loss: 3.0890 - val_accuracy: 0.0722\n",
            "Epoch 4/15\n",
            "238/241 [============================>.] - ETA: 0s - loss: 9.0677 - accuracy: 0.1463WARNING:tensorflow:Early stopping conditioned on metric `val_acc` which is not available. Available metrics are: loss,accuracy,val_loss,val_accuracy\n",
            "241/241 [==============================] - 2s 10ms/step - loss: 9.0621 - accuracy: 0.1463 - val_loss: 2.4229 - val_accuracy: 0.0724\n",
            "Epoch 5/15\n",
            "234/241 [============================>.] - ETA: 0s - loss: 5.9813 - accuracy: 0.1707WARNING:tensorflow:Early stopping conditioned on metric `val_acc` which is not available. Available metrics are: loss,accuracy,val_loss,val_accuracy\n",
            "241/241 [==============================] - 2s 10ms/step - loss: 5.9348 - accuracy: 0.1709 - val_loss: 1.9159 - val_accuracy: 0.3041\n",
            "Epoch 6/15\n",
            "239/241 [============================>.] - ETA: 0s - loss: 4.5715 - accuracy: 0.1996WARNING:tensorflow:Early stopping conditioned on metric `val_acc` which is not available. Available metrics are: loss,accuracy,val_loss,val_accuracy\n",
            "241/241 [==============================] - 2s 9ms/step - loss: 4.5754 - accuracy: 0.1999 - val_loss: 1.5823 - val_accuracy: 0.3041\n",
            "Epoch 7/15\n",
            "236/241 [============================>.] - ETA: 0s - loss: 4.2992 - accuracy: 0.2399WARNING:tensorflow:Early stopping conditioned on metric `val_acc` which is not available. Available metrics are: loss,accuracy,val_loss,val_accuracy\n",
            "241/241 [==============================] - 2s 10ms/step - loss: 4.2811 - accuracy: 0.2392 - val_loss: 1.4202 - val_accuracy: 0.3041\n",
            "Epoch 8/15\n",
            "234/241 [============================>.] - ETA: 0s - loss: 2.8672 - accuracy: 0.2740WARNING:tensorflow:Early stopping conditioned on metric `val_acc` which is not available. Available metrics are: loss,accuracy,val_loss,val_accuracy\n",
            "241/241 [==============================] - 2s 9ms/step - loss: 2.8829 - accuracy: 0.2749 - val_loss: 1.3710 - val_accuracy: 0.4384\n",
            "Epoch 9/15\n",
            "234/241 [============================>.] - ETA: 0s - loss: 2.9569 - accuracy: 0.3020WARNING:tensorflow:Early stopping conditioned on metric `val_acc` which is not available. Available metrics are: loss,accuracy,val_loss,val_accuracy\n",
            "241/241 [==============================] - 2s 8ms/step - loss: 2.9417 - accuracy: 0.3035 - val_loss: 1.3797 - val_accuracy: 0.4384\n",
            "Epoch 10/15\n",
            "235/241 [============================>.] - ETA: 0s - loss: 2.5582 - accuracy: 0.3171WARNING:tensorflow:Early stopping conditioned on metric `val_acc` which is not available. Available metrics are: loss,accuracy,val_loss,val_accuracy\n",
            "241/241 [==============================] - 2s 9ms/step - loss: 2.5506 - accuracy: 0.3162 - val_loss: 1.3980 - val_accuracy: 0.4382\n",
            "Epoch 11/15\n",
            "240/241 [============================>.] - ETA: 0s - loss: 2.5187 - accuracy: 0.3242WARNING:tensorflow:Early stopping conditioned on metric `val_acc` which is not available. Available metrics are: loss,accuracy,val_loss,val_accuracy\n",
            "241/241 [==============================] - 2s 9ms/step - loss: 2.5181 - accuracy: 0.3243 - val_loss: 1.4132 - val_accuracy: 0.4382\n",
            "Epoch 12/15\n",
            "239/241 [============================>.] - ETA: 0s - loss: 2.5399 - accuracy: 0.3283WARNING:tensorflow:Early stopping conditioned on metric `val_acc` which is not available. Available metrics are: loss,accuracy,val_loss,val_accuracy\n",
            "241/241 [==============================] - 2s 9ms/step - loss: 2.5377 - accuracy: 0.3279 - val_loss: 1.4162 - val_accuracy: 0.4382\n",
            "Epoch 13/15\n",
            "241/241 [==============================] - ETA: 0s - loss: 2.3771 - accuracy: 0.3330WARNING:tensorflow:Early stopping conditioned on metric `val_acc` which is not available. Available metrics are: loss,accuracy,val_loss,val_accuracy\n",
            "241/241 [==============================] - 2s 9ms/step - loss: 2.3771 - accuracy: 0.3330 - val_loss: 1.4179 - val_accuracy: 0.4382\n",
            "Epoch 14/15\n",
            "234/241 [============================>.] - ETA: 0s - loss: 2.2281 - accuracy: 0.3400WARNING:tensorflow:Early stopping conditioned on metric `val_acc` which is not available. Available metrics are: loss,accuracy,val_loss,val_accuracy\n",
            "241/241 [==============================] - 2s 9ms/step - loss: 2.2215 - accuracy: 0.3410 - val_loss: 1.4212 - val_accuracy: 0.4382\n",
            "Epoch 15/15\n",
            "236/241 [============================>.] - ETA: 0s - loss: 2.2149 - accuracy: 0.3369WARNING:tensorflow:Early stopping conditioned on metric `val_acc` which is not available. Available metrics are: loss,accuracy,val_loss,val_accuracy\n",
            "241/241 [==============================] - 2s 9ms/step - loss: 2.2146 - accuracy: 0.3361 - val_loss: 1.4194 - val_accuracy: 0.4382\n"
          ]
        }
      ],
      "source": [
        "num_epochs = 15\n",
        "history_mlp = model_mlp.fit(train_data, \n",
        "    train_labels, \n",
        "    epochs=num_epochs,\n",
        "    batch_size=64,\n",
        "    shuffle=True,\n",
        "    validation_data=(test_data, test_labels),callbacks = [EarlyStopping(monitor='val_acc', patience=2)]\n",
        "    )"
      ]
    },
    {
      "cell_type": "code",
      "execution_count": 33,
      "metadata": {
        "id": "4PjYpaCeYNUH"
      },
      "outputs": [
        {
          "name": "stdout",
          "output_type": "stream",
          "text": [
            "Model: \"sequential_1\"\n",
            "_________________________________________________________________\n",
            " Layer (type)                Output Shape              Param #   \n",
            "=================================================================\n",
            " embedding (Embedding)       (None, 200, 32)           3200000   \n",
            "                                                                 \n",
            " bidirectional (Bidirectiona  (None, 200, 256)         164864    \n",
            " l)                                                              \n",
            "                                                                 \n",
            " bidirectional_1 (Bidirectio  (None, 256)              394240    \n",
            " nal)                                                            \n",
            "                                                                 \n",
            " dense_5 (Dense)             (None, 128)               32896     \n",
            "                                                                 \n",
            " dropout_4 (Dropout)         (None, 128)               0         \n",
            "                                                                 \n",
            " dense_6 (Dense)             (None, 64)                8256      \n",
            "                                                                 \n",
            " dropout_5 (Dropout)         (None, 64)                0         \n",
            "                                                                 \n",
            " dense_7 (Dense)             (None, 5)                 325       \n",
            "                                                                 \n",
            "=================================================================\n",
            "Total params: 3,800,581\n",
            "Trainable params: 3,800,581\n",
            "Non-trainable params: 0\n",
            "_________________________________________________________________\n"
          ]
        }
      ],
      "source": [
        "model = tf.keras.Sequential([\n",
        "    tf.keras.layers.Embedding(vocab_size, embedding_dim, input_length=200),\n",
        "    tf.keras.layers.Bidirectional(tf.keras.layers.LSTM(128, return_sequences=True)),\n",
        "    tf.keras.layers.Bidirectional(tf.keras.layers.LSTM(128)),\n",
        "    tf.keras.layers.Dense(128, activation='selu'),\n",
        "    tf.keras.layers.Dropout(0.5),\n",
        "    tf.keras.layers.Dense(64, activation='selu'),\n",
        "    tf.keras.layers.Dropout(0.5),\n",
        "    tf.keras.layers.Dense(5, activation='softmax')\n",
        "])\n",
        "model.compile(loss='categorical_crossentropy',optimizer='adam',metrics=['accuracy'])\n",
        "model.summary()"
      ]
    },
    {
      "cell_type": "code",
      "execution_count": 34,
      "metadata": {
        "colab": {
          "base_uri": "https://localhost:8080/",
          "height": 796
        },
        "id": "6eFFhZEAYpxl",
        "outputId": "fbc41c21-c7d7-4e0d-81a4-874a5702d6ae"
      },
      "outputs": [
        {
          "name": "stdout",
          "output_type": "stream",
          "text": [
            "Epoch 1/15\n",
            "241/241 [==============================] - ETA: 0s - loss: 1.0557 - accuracy: 0.5474WARNING:tensorflow:Early stopping conditioned on metric `val_acc` which is not available. Available metrics are: loss,accuracy,val_loss,val_accuracy\n",
            "241/241 [==============================] - 84s 232ms/step - loss: 1.0557 - accuracy: 0.5474 - val_loss: 0.8916 - val_accuracy: 0.6112\n",
            "Epoch 2/15\n",
            "241/241 [==============================] - ETA: 0s - loss: 0.7707 - accuracy: 0.6626WARNING:tensorflow:Early stopping conditioned on metric `val_acc` which is not available. Available metrics are: loss,accuracy,val_loss,val_accuracy\n",
            "241/241 [==============================] - 42s 175ms/step - loss: 0.7707 - accuracy: 0.6626 - val_loss: 0.8691 - val_accuracy: 0.6174\n",
            "Epoch 3/15\n",
            "241/241 [==============================] - ETA: 0s - loss: 0.6144 - accuracy: 0.7450WARNING:tensorflow:Early stopping conditioned on metric `val_acc` which is not available. Available metrics are: loss,accuracy,val_loss,val_accuracy\n",
            "241/241 [==============================] - 46s 191ms/step - loss: 0.6144 - accuracy: 0.7450 - val_loss: 0.9461 - val_accuracy: 0.6096\n",
            "Epoch 4/15\n",
            "241/241 [==============================] - ETA: 0s - loss: 0.4610 - accuracy: 0.8196WARNING:tensorflow:Early stopping conditioned on metric `val_acc` which is not available. Available metrics are: loss,accuracy,val_loss,val_accuracy\n",
            "241/241 [==============================] - 42s 172ms/step - loss: 0.4610 - accuracy: 0.8196 - val_loss: 1.1141 - val_accuracy: 0.5877\n",
            "Epoch 5/15\n",
            "241/241 [==============================] - ETA: 0s - loss: 0.3454 - accuracy: 0.8699WARNING:tensorflow:Early stopping conditioned on metric `val_acc` which is not available. Available metrics are: loss,accuracy,val_loss,val_accuracy\n",
            "241/241 [==============================] - 42s 173ms/step - loss: 0.3454 - accuracy: 0.8699 - val_loss: 1.3841 - val_accuracy: 0.5897\n",
            "Epoch 6/15\n",
            "241/241 [==============================] - ETA: 0s - loss: 0.2576 - accuracy: 0.9052WARNING:tensorflow:Early stopping conditioned on metric `val_acc` which is not available. Available metrics are: loss,accuracy,val_loss,val_accuracy\n",
            "241/241 [==============================] - 41s 172ms/step - loss: 0.2576 - accuracy: 0.9052 - val_loss: 1.6544 - val_accuracy: 0.5737\n",
            "Epoch 7/15\n",
            "241/241 [==============================] - ETA: 0s - loss: 0.1837 - accuracy: 0.9371WARNING:tensorflow:Early stopping conditioned on metric `val_acc` which is not available. Available metrics are: loss,accuracy,val_loss,val_accuracy\n",
            "241/241 [==============================] - 42s 173ms/step - loss: 0.1837 - accuracy: 0.9371 - val_loss: 1.8931 - val_accuracy: 0.5833\n",
            "Epoch 8/15\n",
            "241/241 [==============================] - ETA: 0s - loss: 0.1408 - accuracy: 0.9526WARNING:tensorflow:Early stopping conditioned on metric `val_acc` which is not available. Available metrics are: loss,accuracy,val_loss,val_accuracy\n",
            "241/241 [==============================] - 42s 173ms/step - loss: 0.1408 - accuracy: 0.9526 - val_loss: 2.3253 - val_accuracy: 0.5891\n",
            "Epoch 9/15\n",
            "241/241 [==============================] - ETA: 0s - loss: 0.1303 - accuracy: 0.9554WARNING:tensorflow:Early stopping conditioned on metric `val_acc` which is not available. Available metrics are: loss,accuracy,val_loss,val_accuracy\n",
            "241/241 [==============================] - 42s 173ms/step - loss: 0.1303 - accuracy: 0.9554 - val_loss: 2.2092 - val_accuracy: 0.5719\n",
            "Epoch 10/15\n",
            "241/241 [==============================] - ETA: 0s - loss: 0.1050 - accuracy: 0.9634WARNING:tensorflow:Early stopping conditioned on metric `val_acc` which is not available. Available metrics are: loss,accuracy,val_loss,val_accuracy\n",
            "241/241 [==============================] - 42s 174ms/step - loss: 0.1050 - accuracy: 0.9634 - val_loss: 2.6285 - val_accuracy: 0.5561\n",
            "Epoch 11/15\n",
            "241/241 [==============================] - ETA: 0s - loss: 0.0867 - accuracy: 0.9716WARNING:tensorflow:Early stopping conditioned on metric `val_acc` which is not available. Available metrics are: loss,accuracy,val_loss,val_accuracy\n",
            "241/241 [==============================] - 42s 173ms/step - loss: 0.0867 - accuracy: 0.9716 - val_loss: 2.5483 - val_accuracy: 0.5501\n",
            "Epoch 12/15\n",
            "241/241 [==============================] - ETA: 0s - loss: 0.0701 - accuracy: 0.9764WARNING:tensorflow:Early stopping conditioned on metric `val_acc` which is not available. Available metrics are: loss,accuracy,val_loss,val_accuracy\n",
            "241/241 [==============================] - 42s 174ms/step - loss: 0.0701 - accuracy: 0.9764 - val_loss: 2.8915 - val_accuracy: 0.5651\n",
            "Epoch 13/15\n",
            "241/241 [==============================] - ETA: 0s - loss: 0.0606 - accuracy: 0.9812WARNING:tensorflow:Early stopping conditioned on metric `val_acc` which is not available. Available metrics are: loss,accuracy,val_loss,val_accuracy\n",
            "241/241 [==============================] - 42s 173ms/step - loss: 0.0606 - accuracy: 0.9812 - val_loss: 2.6455 - val_accuracy: 0.5631\n",
            "Epoch 14/15\n",
            "241/241 [==============================] - ETA: 0s - loss: 0.0531 - accuracy: 0.9841WARNING:tensorflow:Early stopping conditioned on metric `val_acc` which is not available. Available metrics are: loss,accuracy,val_loss,val_accuracy\n",
            "241/241 [==============================] - 42s 173ms/step - loss: 0.0531 - accuracy: 0.9841 - val_loss: 2.9627 - val_accuracy: 0.5368\n",
            "Epoch 15/15\n",
            "241/241 [==============================] - ETA: 0s - loss: 0.0535 - accuracy: 0.9825WARNING:tensorflow:Early stopping conditioned on metric `val_acc` which is not available. Available metrics are: loss,accuracy,val_loss,val_accuracy\n",
            "241/241 [==============================] - 42s 173ms/step - loss: 0.0535 - accuracy: 0.9825 - val_loss: 3.3105 - val_accuracy: 0.5467\n"
          ]
        }
      ],
      "source": [
        "num_epochs = 15\n",
        "history_rnn = model.fit(train_data, \n",
        "    train_labels, \n",
        "    epochs=num_epochs,\n",
        "    batch_size=64,\n",
        "    shuffle=True,\n",
        "    validation_data=(test_data, test_labels),callbacks = [EarlyStopping(monitor='val_acc', patience=2)]\n",
        "    )"
      ]
    },
    {
      "cell_type": "code",
      "execution_count": 35,
      "metadata": {},
      "outputs": [],
      "source": [
        "# model_relu = tf.keras.Sequential([\n",
        "#     tf.keras.layers.Embedding(vocab_size, embedding_dim, input_length=max_length),\n",
        "#     tf.keras.layers.Bidirectional(tf.keras.layers.LSTM(64, return_sequences=True)),\n",
        "#     tf.keras.layers.Bidirectional(tf.keras.layers.LSTM(32)),\n",
        "#     tf.keras.layers.BatchNormalization(),\n",
        "#     tf.keras.layers.Dense(32, activation='relu'),\n",
        "#     tf.keras.layers.Dropout(0.3),\n",
        "#     tf.keras.layers.Dense(5, activation='softmax')\n",
        "# ])\n",
        "# model_relu.compile(loss='sparse_categorical_crossentropy',optimizer='adam',metrics=['accuracy'])\n",
        "# model_relu.summary()"
      ]
    },
    {
      "attachments": {},
      "cell_type": "markdown",
      "metadata": {},
      "source": [
        "# CNN model using word2vec"
      ]
    },
    {
      "cell_type": "code",
      "execution_count": 36,
      "metadata": {},
      "outputs": [],
      "source": [
        "# Import word2vec from gensim\n",
        "from gensim.models import Word2Vec"
      ]
    },
    {
      "cell_type": "code",
      "execution_count": 37,
      "metadata": {},
      "outputs": [
        {
          "data": {
            "text/html": [
              "<div>\n",
              "<style scoped>\n",
              "    .dataframe tbody tr th:only-of-type {\n",
              "        vertical-align: middle;\n",
              "    }\n",
              "\n",
              "    .dataframe tbody tr th {\n",
              "        vertical-align: top;\n",
              "    }\n",
              "\n",
              "    .dataframe thead th {\n",
              "        text-align: right;\n",
              "    }\n",
              "</style>\n",
              "<table border=\"1\" class=\"dataframe\">\n",
              "  <thead>\n",
              "    <tr style=\"text-align: right;\">\n",
              "      <th></th>\n",
              "      <th>Review</th>\n",
              "      <th>Rating</th>\n",
              "      <th>num_words</th>\n",
              "    </tr>\n",
              "  </thead>\n",
              "  <tbody>\n",
              "    <tr>\n",
              "      <th>0</th>\n",
              "      <td>nice hotel expensive parking got good deal sta...</td>\n",
              "      <td>4</td>\n",
              "      <td>87</td>\n",
              "    </tr>\n",
              "    <tr>\n",
              "      <th>1</th>\n",
              "      <td>ok nothing special charge diamond member hilto...</td>\n",
              "      <td>2</td>\n",
              "      <td>250</td>\n",
              "    </tr>\n",
              "    <tr>\n",
              "      <th>2</th>\n",
              "      <td>nice rooms not 4* experience hotel monaco seat...</td>\n",
              "      <td>3</td>\n",
              "      <td>217</td>\n",
              "    </tr>\n",
              "    <tr>\n",
              "      <th>3</th>\n",
              "      <td>unique, great stay, wonderful time hotel monac...</td>\n",
              "      <td>5</td>\n",
              "      <td>89</td>\n",
              "    </tr>\n",
              "    <tr>\n",
              "      <th>4</th>\n",
              "      <td>great stay great stay, went seahawk game aweso...</td>\n",
              "      <td>5</td>\n",
              "      <td>191</td>\n",
              "    </tr>\n",
              "  </tbody>\n",
              "</table>\n",
              "</div>"
            ],
            "text/plain": [
              "                                              Review  Rating  num_words\n",
              "0  nice hotel expensive parking got good deal sta...       4         87\n",
              "1  ok nothing special charge diamond member hilto...       2        250\n",
              "2  nice rooms not 4* experience hotel monaco seat...       3        217\n",
              "3  unique, great stay, wonderful time hotel monac...       5         89\n",
              "4  great stay great stay, went seahawk game aweso...       5        191"
            ]
          },
          "execution_count": 37,
          "metadata": {},
          "output_type": "execute_result"
        }
      ],
      "source": [
        "df.head()"
      ]
    },
    {
      "cell_type": "code",
      "execution_count": 38,
      "metadata": {},
      "outputs": [],
      "source": [
        "reviews = df['Review'].tolist()"
      ]
    },
    {
      "cell_type": "code",
      "execution_count": 39,
      "metadata": {},
      "outputs": [],
      "source": [
        "new = []\n",
        "for review in reviews:\n",
        "    review = review.lower()\n",
        "    review = re.sub(r'[^\\w\\s]','',review)\n",
        "    review = re.sub(r'\\d+','',review)\n",
        "    review = re.sub(r'\\s+',' ',review)\n",
        "    new.append(review.strip().split())"
      ]
    },
    {
      "cell_type": "code",
      "execution_count": 40,
      "metadata": {},
      "outputs": [],
      "source": [
        "# Train word2vec over ratings\n",
        "word_emb = Word2Vec(new, window=5, min_count=1, workers=4, vector_size=10)"
      ]
    },
    {
      "cell_type": "code",
      "execution_count": 41,
      "metadata": {},
      "outputs": [
        {
          "data": {
            "text/html": [
              "<div>\n",
              "<style scoped>\n",
              "    .dataframe tbody tr th:only-of-type {\n",
              "        vertical-align: middle;\n",
              "    }\n",
              "\n",
              "    .dataframe tbody tr th {\n",
              "        vertical-align: top;\n",
              "    }\n",
              "\n",
              "    .dataframe thead th {\n",
              "        text-align: right;\n",
              "    }\n",
              "</style>\n",
              "<table border=\"1\" class=\"dataframe\">\n",
              "  <thead>\n",
              "    <tr style=\"text-align: right;\">\n",
              "      <th></th>\n",
              "      <th>0</th>\n",
              "      <th>1</th>\n",
              "      <th>2</th>\n",
              "      <th>3</th>\n",
              "      <th>4</th>\n",
              "      <th>5</th>\n",
              "      <th>6</th>\n",
              "      <th>7</th>\n",
              "      <th>8</th>\n",
              "      <th>9</th>\n",
              "    </tr>\n",
              "  </thead>\n",
              "  <tbody>\n",
              "    <tr>\n",
              "      <th>hotel</th>\n",
              "      <td>3.414304</td>\n",
              "      <td>-0.142787</td>\n",
              "      <td>2.745925</td>\n",
              "      <td>-1.268533</td>\n",
              "      <td>-0.778129</td>\n",
              "      <td>3.056199</td>\n",
              "      <td>1.126630</td>\n",
              "      <td>0.494636</td>\n",
              "      <td>0.592362</td>\n",
              "      <td>-2.707417</td>\n",
              "    </tr>\n",
              "    <tr>\n",
              "      <th>room</th>\n",
              "      <td>-1.026669</td>\n",
              "      <td>-1.351674</td>\n",
              "      <td>1.545699</td>\n",
              "      <td>2.502101</td>\n",
              "      <td>2.437633</td>\n",
              "      <td>1.675981</td>\n",
              "      <td>-0.868864</td>\n",
              "      <td>3.563679</td>\n",
              "      <td>0.944368</td>\n",
              "      <td>-6.124699</td>\n",
              "    </tr>\n",
              "    <tr>\n",
              "      <th>not</th>\n",
              "      <td>2.251282</td>\n",
              "      <td>0.630992</td>\n",
              "      <td>-0.225997</td>\n",
              "      <td>0.036614</td>\n",
              "      <td>-0.441223</td>\n",
              "      <td>0.945654</td>\n",
              "      <td>-1.078788</td>\n",
              "      <td>4.692199</td>\n",
              "      <td>-1.777126</td>\n",
              "      <td>-1.334647</td>\n",
              "    </tr>\n",
              "    <tr>\n",
              "      <th>great</th>\n",
              "      <td>0.928715</td>\n",
              "      <td>-0.456779</td>\n",
              "      <td>3.469937</td>\n",
              "      <td>-2.956624</td>\n",
              "      <td>0.101951</td>\n",
              "      <td>1.611636</td>\n",
              "      <td>2.281356</td>\n",
              "      <td>2.062550</td>\n",
              "      <td>0.167222</td>\n",
              "      <td>0.407502</td>\n",
              "    </tr>\n",
              "    <tr>\n",
              "      <th>nt</th>\n",
              "      <td>2.363626</td>\n",
              "      <td>-0.309844</td>\n",
              "      <td>-1.469855</td>\n",
              "      <td>-0.012102</td>\n",
              "      <td>-1.261779</td>\n",
              "      <td>2.031087</td>\n",
              "      <td>-1.897785</td>\n",
              "      <td>6.499581</td>\n",
              "      <td>-2.712606</td>\n",
              "      <td>-0.477392</td>\n",
              "    </tr>\n",
              "    <tr>\n",
              "      <th>...</th>\n",
              "      <td>...</td>\n",
              "      <td>...</td>\n",
              "      <td>...</td>\n",
              "      <td>...</td>\n",
              "      <td>...</td>\n",
              "      <td>...</td>\n",
              "      <td>...</td>\n",
              "      <td>...</td>\n",
              "      <td>...</td>\n",
              "      <td>...</td>\n",
              "    </tr>\n",
              "    <tr>\n",
              "      <th>agreei</th>\n",
              "      <td>0.032170</td>\n",
              "      <td>-0.077247</td>\n",
              "      <td>-0.024995</td>\n",
              "      <td>0.022506</td>\n",
              "      <td>-0.021994</td>\n",
              "      <td>0.039293</td>\n",
              "      <td>-0.033009</td>\n",
              "      <td>0.056763</td>\n",
              "      <td>-0.021624</td>\n",
              "      <td>-0.031475</td>\n",
              "    </tr>\n",
              "    <tr>\n",
              "      <th>startsthe</th>\n",
              "      <td>0.076005</td>\n",
              "      <td>-0.110473</td>\n",
              "      <td>0.077985</td>\n",
              "      <td>0.072883</td>\n",
              "      <td>0.032206</td>\n",
              "      <td>0.038547</td>\n",
              "      <td>-0.045636</td>\n",
              "      <td>0.000786</td>\n",
              "      <td>-0.090381</td>\n",
              "      <td>0.044398</td>\n",
              "    </tr>\n",
              "    <tr>\n",
              "      <th>awaya</th>\n",
              "      <td>-0.025064</td>\n",
              "      <td>-0.078771</td>\n",
              "      <td>0.041227</td>\n",
              "      <td>0.106624</td>\n",
              "      <td>-0.003750</td>\n",
              "      <td>-0.016223</td>\n",
              "      <td>0.081161</td>\n",
              "      <td>-0.005431</td>\n",
              "      <td>-0.116800</td>\n",
              "      <td>-0.012459</td>\n",
              "    </tr>\n",
              "    <tr>\n",
              "      <th>everydayjust</th>\n",
              "      <td>0.033136</td>\n",
              "      <td>0.094465</td>\n",
              "      <td>-0.084772</td>\n",
              "      <td>-0.054694</td>\n",
              "      <td>0.040712</td>\n",
              "      <td>-0.028157</td>\n",
              "      <td>0.094210</td>\n",
              "      <td>0.108297</td>\n",
              "      <td>0.041439</td>\n",
              "      <td>0.002681</td>\n",
              "    </tr>\n",
              "    <tr>\n",
              "      <th>groundsservicebeachetc</th>\n",
              "      <td>-0.032916</td>\n",
              "      <td>-0.101518</td>\n",
              "      <td>-0.020789</td>\n",
              "      <td>0.041126</td>\n",
              "      <td>0.090874</td>\n",
              "      <td>-0.019734</td>\n",
              "      <td>-0.018346</td>\n",
              "      <td>-0.064336</td>\n",
              "      <td>0.007131</td>\n",
              "      <td>-0.114303</td>\n",
              "    </tr>\n",
              "  </tbody>\n",
              "</table>\n",
              "<p>76125 rows × 10 columns</p>\n",
              "</div>"
            ],
            "text/plain": [
              "                               0         1         2         3         4  \\\n",
              "hotel                   3.414304 -0.142787  2.745925 -1.268533 -0.778129   \n",
              "room                   -1.026669 -1.351674  1.545699  2.502101  2.437633   \n",
              "not                     2.251282  0.630992 -0.225997  0.036614 -0.441223   \n",
              "great                   0.928715 -0.456779  3.469937 -2.956624  0.101951   \n",
              "nt                      2.363626 -0.309844 -1.469855 -0.012102 -1.261779   \n",
              "...                          ...       ...       ...       ...       ...   \n",
              "agreei                  0.032170 -0.077247 -0.024995  0.022506 -0.021994   \n",
              "startsthe               0.076005 -0.110473  0.077985  0.072883  0.032206   \n",
              "awaya                  -0.025064 -0.078771  0.041227  0.106624 -0.003750   \n",
              "everydayjust            0.033136  0.094465 -0.084772 -0.054694  0.040712   \n",
              "groundsservicebeachetc -0.032916 -0.101518 -0.020789  0.041126  0.090874   \n",
              "\n",
              "                               5         6         7         8         9  \n",
              "hotel                   3.056199  1.126630  0.494636  0.592362 -2.707417  \n",
              "room                    1.675981 -0.868864  3.563679  0.944368 -6.124699  \n",
              "not                     0.945654 -1.078788  4.692199 -1.777126 -1.334647  \n",
              "great                   1.611636  2.281356  2.062550  0.167222  0.407502  \n",
              "nt                      2.031087 -1.897785  6.499581 -2.712606 -0.477392  \n",
              "...                          ...       ...       ...       ...       ...  \n",
              "agreei                  0.039293 -0.033009  0.056763 -0.021624 -0.031475  \n",
              "startsthe               0.038547 -0.045636  0.000786 -0.090381  0.044398  \n",
              "awaya                  -0.016223  0.081161 -0.005431 -0.116800 -0.012459  \n",
              "everydayjust           -0.028157  0.094210  0.108297  0.041439  0.002681  \n",
              "groundsservicebeachetc -0.019734 -0.018346 -0.064336  0.007131 -0.114303  \n",
              "\n",
              "[76125 rows x 10 columns]"
            ]
          },
          "execution_count": 41,
          "metadata": {},
          "output_type": "execute_result"
        }
      ],
      "source": [
        "emb_df = (\n",
        "    pd.DataFrame(\n",
        "        [word_emb.wv.get_vector(str(n)) for n in word_emb.wv.key_to_index],\n",
        "        index = word_emb.wv.key_to_index\n",
        "    )\n",
        ")\n",
        "emb_df"
      ]
    },
    {
      "cell_type": "code",
      "execution_count": 42,
      "metadata": {},
      "outputs": [],
      "source": [
        "# Convert reviews to vectors of length 100 with 0 padding\n",
        "review_vecs = []\n",
        "for review in new:\n",
        "    review_vec = []\n",
        "    for word in review[:100]:\n",
        "        try:\n",
        "            review_vec.append(word_emb.wv.get_vector(word))\n",
        "        except:\n",
        "            review_vec.append(np.zeros(10))\n",
        "    \n",
        "    if len(review_vec) < 100:\n",
        "        review_vec.extend([np.zeros(10)] * (100 - len(review_vec)))\n",
        "\n",
        "    review_vecs.append(np.array(review_vec))\n",
        "\n"
      ]
    },
    {
      "cell_type": "code",
      "execution_count": 43,
      "metadata": {},
      "outputs": [
        {
          "data": {
            "text/plain": [
              "array([[-1.35008705e+00,  2.60996819e-01,  1.60910654e+00,\n",
              "        -2.58495808e+00,  1.32407701e+00,  4.20542240e-01,\n",
              "         2.35227156e+00,  3.42490196e+00,  3.57805520e-01,\n",
              "        -1.92797267e+00],\n",
              "       [ 3.41430426e+00, -1.42786831e-01,  2.74592495e+00,\n",
              "        -1.26853299e+00, -7.78128982e-01,  3.05619931e+00,\n",
              "         1.12663031e+00,  4.94635582e-01,  5.92361629e-01,\n",
              "        -2.70741677e+00],\n",
              "       [ 3.47743797e+00,  2.14095545e+00,  1.99443245e+00,\n",
              "         3.24529982e+00,  2.69306600e-01,  7.48276889e-01,\n",
              "         3.42574573e+00,  3.22293782e+00, -3.30036092e+00,\n",
              "         1.69470775e+00],\n",
              "       [ 3.55841756e+00, -1.32335746e+00, -3.16012192e+00,\n",
              "         4.78327560e+00, -1.39748442e+00, -5.25508702e-01,\n",
              "         2.15483904e+00,  1.39875901e+00, -4.33062124e+00,\n",
              "        -1.04998493e+00],\n",
              "       [ 1.58549058e+00, -3.70561266e+00,  1.34345508e+00,\n",
              "         2.11402369e+00,  1.16894329e+00,  1.11962259e-01,\n",
              "        -3.34846973e+00,  2.88314080e+00, -1.35289288e+00,\n",
              "        -6.67288065e-01],\n",
              "       [ 5.11688054e-01,  1.67083049e+00,  3.84532905e+00,\n",
              "        -7.40523279e-01, -1.00559806e-02,  2.51311445e+00,\n",
              "         2.00115132e+00,  3.72830725e+00, -1.58509839e+00,\n",
              "         7.13213444e-01],\n",
              "       [ 4.44037867e+00, -9.82554078e-01,  9.72787678e-01,\n",
              "         2.34762001e+00,  2.33956504e+00,  5.91058671e-01,\n",
              "        -1.46399033e+00,  3.50835037e+00, -1.07371831e+00,\n",
              "         2.66179979e-01],\n",
              "       [ 5.42124510e+00, -1.66620529e+00,  3.31595802e+00,\n",
              "        -2.24428535e+00,  2.54736960e-01,  2.73329902e+00,\n",
              "        -1.30623031e+00,  1.54939377e+00,  2.13297963e-01,\n",
              "        -3.39862555e-01],\n",
              "       [ 3.41430426e+00, -1.42786831e-01,  2.74592495e+00,\n",
              "        -1.26853299e+00, -7.78128982e-01,  3.05619931e+00,\n",
              "         1.12663031e+00,  4.94635582e-01,  5.92361629e-01,\n",
              "        -2.70741677e+00],\n",
              "       [ 3.70353651e+00, -5.57025480e+00,  5.68573904e+00,\n",
              "        -4.92373198e-01,  1.61699855e+00, -1.20645046e+00,\n",
              "        -1.29520071e+00, -1.57848179e+00,  7.04739332e-01,\n",
              "        -2.54471231e+00],\n",
              "       [ 6.09269261e-01, -6.52772331e+00,  4.13666391e+00,\n",
              "         2.48145878e-01, -1.31317210e+00,  9.51495707e-01,\n",
              "        -3.56288671e+00, -3.62520576e-01, -1.33403942e-01,\n",
              "        -3.58378625e+00],\n",
              "       [-2.90842563e-01, -6.89986658e+00,  2.90567923e+00,\n",
              "         1.72265768e+00, -2.71301174e+00,  1.51814699e+00,\n",
              "        -1.71422827e+00,  3.30394602e+00, -6.62355661e-01,\n",
              "        -9.86877561e-01],\n",
              "       [-2.47582746e+00, -4.72904778e+00,  3.66692924e+00,\n",
              "        -5.68024516e-01, -2.47982669e+00, -1.49601650e+00,\n",
              "         3.23188782e-01,  4.57951450e+00, -1.14752614e+00,\n",
              "         5.66240847e-01],\n",
              "       [-3.65356743e-01, -5.66752052e+00, -3.24319273e-01,\n",
              "        -1.64994025e+00, -5.23684204e-01, -1.95969313e-01,\n",
              "        -2.50919890e+00, -1.32219350e+00, -3.73745418e+00,\n",
              "         4.98971045e-02],\n",
              "       [ 2.58606696e+00, -2.32349098e-01,  1.61613011e+00,\n",
              "        -1.32505262e+00, -2.74497223e+00, -5.34584858e-02,\n",
              "        -1.28988075e+00,  6.46771610e-01, -4.54059076e+00,\n",
              "        -5.61328292e-01],\n",
              "       [ 5.62074709e+00,  7.17006803e-01,  3.73454690e-01,\n",
              "        -3.82615656e-01,  2.47096732e-01, -4.65347618e-01,\n",
              "        -2.75400329e+00,  2.04863667e+00, -7.97250092e-01,\n",
              "        -5.96243382e+00],\n",
              "       [ 1.06702881e+01, -1.55895460e+00, -1.06763387e+00,\n",
              "        -3.28735971e+00,  4.60881442e-01, -3.20662093e+00,\n",
              "        -3.67210126e+00,  5.11650610e+00,  1.12010121e+00,\n",
              "        -7.54676485e+00],\n",
              "       [ 1.33373630e+00, -7.74190426e-01, -7.62614012e-01,\n",
              "         8.58887792e-01, -1.48748088e+00,  9.17166471e-01,\n",
              "        -2.68552065e+00,  5.90036583e+00, -2.96914935e+00,\n",
              "        -1.26461852e+00],\n",
              "       [ 6.87269509e-01, -2.62989497e+00, -5.23356616e-01,\n",
              "         1.07204044e+00, -1.96973157e+00, -8.79108310e-01,\n",
              "        -9.67166543e-01,  1.01905155e+00, -4.80205393e+00,\n",
              "        -1.09815240e+00],\n",
              "       [ 3.55841756e+00, -1.32335746e+00, -3.16012192e+00,\n",
              "         4.78327560e+00, -1.39748442e+00, -5.25508702e-01,\n",
              "         2.15483904e+00,  1.39875901e+00, -4.33062124e+00,\n",
              "        -1.04998493e+00],\n",
              "       [-3.24105352e-01, -5.02101707e+00,  1.80720508e+00,\n",
              "        -5.45423090e-01, -3.20841193e+00, -9.34026659e-01,\n",
              "        -3.07538962e+00,  8.73341203e-01, -2.14977479e+00,\n",
              "        -4.47627258e+00],\n",
              "       [-2.32269931e+00, -3.56148314e+00,  2.20816398e+00,\n",
              "        -2.38378334e+00, -3.02689075e+00,  1.50484395e+00,\n",
              "         1.52320325e-01, -1.36110753e-01, -2.12217426e+00,\n",
              "        -1.06048775e+00],\n",
              "       [ 4.46652770e-01, -1.85411680e+00, -6.23426996e-02,\n",
              "        -3.06924653e+00, -3.16871691e+00,  3.33971500e+00,\n",
              "         4.07182121e+00, -2.48652816e+00, -3.10737562e+00,\n",
              "        -1.27115536e+00],\n",
              "       [ 1.05309486e+00,  4.76659447e-01, -1.55108225e+00,\n",
              "        -9.42039430e-01,  1.20635378e+00,  1.82254410e+00,\n",
              "         9.29235876e-01,  3.98422289e+00, -1.33171558e+00,\n",
              "        -3.19899827e-01],\n",
              "       [ 4.59207773e+00,  7.20927894e-01,  3.18876481e+00,\n",
              "         8.22792530e-01,  2.14869648e-01,  6.76308572e-01,\n",
              "        -9.08143401e-01,  2.73100471e+00,  1.07126303e-01,\n",
              "        -3.44583988e+00],\n",
              "       [-2.26805545e-02, -7.01158762e-01, -1.67702705e-01,\n",
              "        -1.17712177e-01,  4.47613031e-01, -1.30211160e-01,\n",
              "         5.12046158e-01,  1.25613499e+00, -8.05449069e-01,\n",
              "        -1.05601859e+00],\n",
              "       [ 2.68215275e+00, -4.32241488e+00, -1.31760105e-01,\n",
              "         2.56674695e+00,  2.81074834e+00,  8.79551694e-02,\n",
              "         5.02564383e+00,  5.46956205e+00,  5.45345354e+00,\n",
              "        -4.19323397e+00],\n",
              "       [-1.02666891e+00, -1.35167360e+00,  1.54569876e+00,\n",
              "         2.50210071e+00,  2.43763256e+00,  1.67598081e+00,\n",
              "        -8.68864298e-01,  3.56367874e+00,  9.44368422e-01,\n",
              "        -6.12469912e+00],\n",
              "       [-1.02666891e+00, -1.35167360e+00,  1.54569876e+00,\n",
              "         2.50210071e+00,  2.43763256e+00,  1.67598081e+00,\n",
              "        -8.68864298e-01,  3.56367874e+00,  9.44368422e-01,\n",
              "        -6.12469912e+00],\n",
              "       [-2.33341289e+00,  9.53660190e-01,  1.98903501e+00,\n",
              "        -4.02115345e+00,  4.17687750e+00,  3.57972336e+00,\n",
              "         1.85834980e+00,  4.18432522e+00,  1.78017569e+00,\n",
              "        -5.06862354e+00],\n",
              "       [-1.35008705e+00,  2.60996819e-01,  1.60910654e+00,\n",
              "        -2.58495808e+00,  1.32407701e+00,  4.20542240e-01,\n",
              "         2.35227156e+00,  3.42490196e+00,  3.57805520e-01,\n",
              "        -1.92797267e+00],\n",
              "       [ 3.52770597e-01,  1.01898146e+00,  1.62936938e+00,\n",
              "         2.05605173e+00,  6.61519814e+00,  3.11860728e+00,\n",
              "         1.78589475e+00,  4.77798653e+00,  1.21165788e+00,\n",
              "        -4.80460739e+00],\n",
              "       [-2.11669731e+00, -2.42855549e+00,  5.42358398e-01,\n",
              "         1.97869706e+00,  8.62098980e+00,  4.55380201e+00,\n",
              "        -1.94348609e+00,  4.27147675e+00,  8.88755739e-01,\n",
              "        -5.91018629e+00],\n",
              "       [-1.74732101e+00,  1.04165018e+00,  2.94378781e+00,\n",
              "        -3.30439639e+00,  5.09662294e+00,  5.20797682e+00,\n",
              "         1.55659819e+00,  2.85630131e+00,  1.34989738e+00,\n",
              "        -4.86397505e+00],\n",
              "       [-9.19992507e-01, -3.67703843e+00, -1.63962319e-01,\n",
              "         1.34152639e+00,  6.99129581e-01,  1.38214183e+00,\n",
              "        -9.97776926e-01,  1.66426742e+00, -1.46888912e+00,\n",
              "        -1.70617783e+00],\n",
              "       [ 9.86107290e-02, -1.66108266e-01,  2.32311040e-01,\n",
              "         1.04482025e-01,  5.40677786e-01,  3.27413738e-01,\n",
              "        -2.93398974e-03,  5.00336111e-01, -7.98886597e-01,\n",
              "        -3.97344679e-01],\n",
              "       [ 9.97244790e-02, -9.66730475e-01, -1.19778864e-01,\n",
              "        -8.83707032e-02,  5.00585020e-01,  3.51661332e-02,\n",
              "         3.44880819e-01,  2.56462693e-01, -1.05412769e+00,\n",
              "        -5.49361229e-01],\n",
              "       [ 3.55285358e+00,  2.29052591e+00,  5.72187304e-01,\n",
              "         2.69005346e+00,  3.02690530e+00, -7.66546488e-01,\n",
              "         1.95409870e+00,  2.75152946e+00, -5.04495740e-01,\n",
              "        -2.88423896e+00],\n",
              "       [-2.58054376e+00,  3.36600631e-01,  6.04679286e-01,\n",
              "         4.34120953e-01,  8.01949501e+00,  2.67933059e+00,\n",
              "        -2.51347470e+00,  3.63226295e+00, -3.10861254e+00,\n",
              "        -3.52386928e+00],\n",
              "       [ 2.25128198e+00,  6.30991638e-01, -2.25997314e-01,\n",
              "         3.66138406e-02, -4.41223085e-01,  9.45653796e-01,\n",
              "        -1.07878804e+00,  4.69219923e+00, -1.77712595e+00,\n",
              "        -1.33464694e+00],\n",
              "       [ 5.32122254e-01, -6.47322059e-01, -5.38453341e-01,\n",
              "         3.74305904e-01,  9.87960249e-02,  6.22947216e-01,\n",
              "         6.04718804e-01,  9.40391362e-01, -1.88829884e-01,\n",
              "        -1.10194063e+00],\n",
              "       [ 1.99785757e+00,  1.39592731e+00, -1.47586370e+00,\n",
              "        -8.68236721e-01,  1.34600878e+00,  1.13554895e+00,\n",
              "         2.22280517e-01,  2.86992598e+00, -2.58472490e+00,\n",
              "        -1.42552868e-01],\n",
              "       [ 2.43748736e+00, -1.69111335e+00, -1.77195621e+00,\n",
              "         8.91498446e-01, -2.35558009e+00,  1.31973374e+00,\n",
              "        -2.60792732e-01,  3.68008566e+00, -8.41978848e-01,\n",
              "        -3.97757339e+00],\n",
              "       [-1.03832698e+00, -1.55161262e+00, -1.82195306e+00,\n",
              "        -1.45318735e+00, -3.45609140e+00, -3.92640519e+00,\n",
              "         3.79131627e+00,  5.88132143e+00, -2.21252060e+00,\n",
              "        -1.28261745e+00],\n",
              "       [-1.02666891e+00, -1.35167360e+00,  1.54569876e+00,\n",
              "         2.50210071e+00,  2.43763256e+00,  1.67598081e+00,\n",
              "        -8.68864298e-01,  3.56367874e+00,  9.44368422e-01,\n",
              "        -6.12469912e+00],\n",
              "       [ 1.74754298e+00, -4.19204330e+00,  1.79871094e+00,\n",
              "         2.78713799e+00, -7.51025856e-01,  1.27929616e+00,\n",
              "        -7.01206863e-01,  4.26542616e+00,  5.45142412e-01,\n",
              "        -1.37569964e-01],\n",
              "       [-4.05268288e+00, -5.41341114e+00,  2.20178199e+00,\n",
              "         1.68614674e+00, -1.63039839e+00,  1.48843980e+00,\n",
              "        -1.10736418e+00,  4.72447157e+00, -1.72464108e+00,\n",
              "        -8.49047899e-01],\n",
              "       [ 2.62334585e-01, -3.21945739e+00, -3.98139668e+00,\n",
              "         7.11033285e-01, -2.91659904e+00,  1.63424146e+00,\n",
              "         9.83264744e-01,  5.50409746e+00, -1.03758204e+00,\n",
              "        -4.68419123e+00],\n",
              "       [-5.42605706e-02, -2.53938764e-01,  3.42107117e-02,\n",
              "         1.23744816e-01, -3.53474915e-02,  1.18092589e-01,\n",
              "         6.75219670e-02,  1.33003637e-01, -1.91014245e-01,\n",
              "         1.46242399e-02],\n",
              "       [-2.29147983e+00, -3.48255897e+00, -3.27848387e+00,\n",
              "         3.21643138e+00, -4.41036791e-01,  4.43287373e+00,\n",
              "         2.42900062e+00,  3.19832850e+00, -1.15014279e+00,\n",
              "        -5.41398621e+00],\n",
              "       [-1.55772358e-01, -2.14688015e+00, -9.63086843e-01,\n",
              "         1.29724789e+00, -1.46373868e-01,  1.79745114e+00,\n",
              "         1.22092664e-01,  1.25871515e+00, -1.13210058e+00,\n",
              "        -2.37004733e+00],\n",
              "       [ 3.65940511e-01, -2.06317306e+00, -2.74010450e-01,\n",
              "         6.66242361e-01, -6.18420362e-01,  7.92343259e-01,\n",
              "         5.43575874e-03,  1.24439430e+00, -1.31588244e+00,\n",
              "        -1.30990028e+00],\n",
              "       [ 1.51841033e+00, -2.75725698e+00, -4.85396910e+00,\n",
              "         1.26125669e+00, -3.10025907e+00,  3.88043356e+00,\n",
              "         8.49027753e-01,  5.72799444e+00, -1.04853594e+00,\n",
              "        -5.94033289e+00],\n",
              "       [ 2.01177859e+00, -9.04646695e-01, -1.95280623e+00,\n",
              "        -3.93325162e+00, -2.35597038e+00, -5.90345502e-01,\n",
              "        -1.86757541e+00,  4.62004471e+00, -2.49044490e+00,\n",
              "        -1.88690507e+00],\n",
              "       [ 9.60181773e-01, -1.90031469e+00, -1.31540275e+00,\n",
              "        -6.85483575e-01, -1.56544030e+00,  5.42203367e-01,\n",
              "        -1.53851449e+00,  2.41767144e+00, -2.47323465e+00,\n",
              "        -2.48990989e+00],\n",
              "       [-5.13921678e-01, -2.35292387e+00, -2.88887691e+00,\n",
              "         9.46201980e-01,  7.44614840e-01,  2.30069923e+00,\n",
              "         1.13708544e+00,  2.08139467e+00, -6.33913934e-01,\n",
              "        -4.84020042e+00],\n",
              "       [ 2.34167361e+00, -1.59468099e-01, -1.07752025e+00,\n",
              "         6.90662861e-01,  9.42685604e-01,  1.94603407e+00,\n",
              "        -7.31742024e-01,  2.81771016e+00, -1.98760080e+00,\n",
              "        -7.99547076e-01],\n",
              "       [ 2.00372028e+00, -2.55471063e+00,  2.03778401e-01,\n",
              "        -8.49507034e-01,  5.89155629e-02,  2.44385242e+00,\n",
              "        -2.30870411e-01,  2.43487501e+00, -6.21078908e-01,\n",
              "         6.60984635e-01],\n",
              "       [ 1.52245796e+00, -2.82916164e+00, -2.19475627e+00,\n",
              "         1.42337799e+00, -1.11106181e+00,  5.06989670e+00,\n",
              "         2.48083615e+00,  5.45097494e+00,  1.89117849e+00,\n",
              "        -4.50806427e+00],\n",
              "       [ 8.78661633e-01, -1.29455578e+00, -9.18444932e-01,\n",
              "         2.69646317e-01, -1.01122752e-01,  6.53898239e-01,\n",
              "         1.83773831e-01,  1.34523845e+00, -7.61019409e-01,\n",
              "        -1.81199455e+00],\n",
              "       [-1.38156974e+00,  3.87810975e-01, -1.07969932e-01,\n",
              "        -3.29128176e-01,  3.03116131e+00,  4.01558906e-01,\n",
              "         9.21692729e-01,  1.07424176e+00, -1.72299123e+00,\n",
              "        -1.39534163e+00],\n",
              "       [-3.35005832e+00, -1.93241775e+00, -1.89234304e+00,\n",
              "        -4.21992630e-01,  9.63743114e+00,  4.20842767e-01,\n",
              "         1.23485184e+00,  3.23631740e+00, -1.53885102e+00,\n",
              "        -3.63929534e+00],\n",
              "       [-1.99077272e+00,  3.48056972e-01,  1.47152096e-01,\n",
              "        -4.94667709e-01,  4.75437403e+00,  3.43656272e-01,\n",
              "         1.23397684e+00,  1.62663424e+00, -2.31365752e+00,\n",
              "        -1.56869614e+00],\n",
              "       [-1.35008705e+00,  2.60996819e-01,  1.60910654e+00,\n",
              "        -2.58495808e+00,  1.32407701e+00,  4.20542240e-01,\n",
              "         2.35227156e+00,  3.42490196e+00,  3.57805520e-01,\n",
              "        -1.92797267e+00],\n",
              "       [ 1.33373630e+00, -7.74190426e-01, -7.62614012e-01,\n",
              "         8.58887792e-01, -1.48748088e+00,  9.17166471e-01,\n",
              "        -2.68552065e+00,  5.90036583e+00, -2.96914935e+00,\n",
              "        -1.26461852e+00],\n",
              "       [ 2.25128198e+00,  6.30991638e-01, -2.25997314e-01,\n",
              "         3.66138406e-02, -4.41223085e-01,  9.45653796e-01,\n",
              "        -1.07878804e+00,  4.69219923e+00, -1.77712595e+00,\n",
              "        -1.33464694e+00],\n",
              "       [-2.92587668e-01, -2.14944050e-01,  3.36438678e-02,\n",
              "        -2.30047584e-01,  3.37906420e-01, -8.39238241e-02,\n",
              "         3.04255843e-01,  1.84975967e-01, -3.87431800e-01,\n",
              "        -3.69597048e-01],\n",
              "       [ 5.42124510e+00, -1.66620529e+00,  3.31595802e+00,\n",
              "        -2.24428535e+00,  2.54736960e-01,  2.73329902e+00,\n",
              "        -1.30623031e+00,  1.54939377e+00,  2.13297963e-01,\n",
              "        -3.39862555e-01],\n",
              "       [-1.35008705e+00,  2.60996819e-01,  1.60910654e+00,\n",
              "        -2.58495808e+00,  1.32407701e+00,  4.20542240e-01,\n",
              "         2.35227156e+00,  3.42490196e+00,  3.57805520e-01,\n",
              "        -1.92797267e+00],\n",
              "       [-2.77765346e+00,  7.60123506e-02,  1.37217605e+00,\n",
              "        -1.69015932e+00,  3.19147301e+00, -1.27567554e+00,\n",
              "         6.62131131e-01,  2.94170332e+00, -1.28028524e+00,\n",
              "        -1.84563792e+00],\n",
              "       [ 3.10231815e-03, -3.75050020e+00, -6.79020703e-01,\n",
              "        -1.65615296e+00, -1.77876458e-01, -9.79920983e-01,\n",
              "        -3.27157712e+00,  3.02996814e-01, -2.73774648e+00,\n",
              "        -2.38967180e+00],\n",
              "       [ 7.95502424e-01, -2.34183383e+00,  1.77193165e-01,\n",
              "        -3.52858901e-01, -5.08599758e-01, -1.65555000e+00,\n",
              "         8.03946018e-01,  9.16857123e-01, -2.67585802e+00,\n",
              "         2.09834188e-01],\n",
              "       [ 7.38018608e+00, -1.26894820e+00,  1.23442018e+00,\n",
              "        -1.50990283e+00, -1.65982544e-01,  1.87551069e+00,\n",
              "        -5.27048469e-01,  1.00016654e+00,  4.53774393e-01,\n",
              "        -1.82262397e+00],\n",
              "       [ 2.67569566e+00, -2.64250660e+00,  7.65111864e-01,\n",
              "        -2.44156092e-01, -3.60110849e-01,  1.83946311e+00,\n",
              "        -1.22420549e+00,  8.72455537e-01, -1.48863745e+00,\n",
              "        -8.73942226e-02],\n",
              "       [ 2.97995901e+00, -9.13164437e-01,  3.22184372e+00,\n",
              "        -3.52847886e+00,  4.21355397e-01,  5.90061903e+00,\n",
              "         3.90773201e+00,  1.95747626e+00,  2.27593470e+00,\n",
              "        -1.12985611e+00],\n",
              "       [ 9.28714991e-01, -4.56778675e-01,  3.46993709e+00,\n",
              "        -2.95662379e+00,  1.01951450e-01,  1.61163640e+00,\n",
              "         2.28135633e+00,  2.06255007e+00,  1.67222276e-01,\n",
              "         4.07501966e-01],\n",
              "       [ 6.53004274e-02, -2.08101654e+00,  2.79963136e-01,\n",
              "        -3.34526300e+00, -4.71249628e+00,  9.38444519e+00,\n",
              "         4.36588573e+00,  1.81074464e+00, -1.38957560e+00,\n",
              "        -7.06119180e-01],\n",
              "       [ 3.35178423e+00, -1.34910750e+00, -2.50527954e+00,\n",
              "        -7.61204338e+00, -1.65222478e+00,  2.19902754e+00,\n",
              "         8.44843102e+00, -1.16348732e+00, -4.21986055e+00,\n",
              "         1.16380167e+00],\n",
              "       [ 2.08577538e+00, -1.90865123e+00,  2.94353276e-01,\n",
              "        -2.54301381e+00, -2.70564699e+00,  3.76050925e+00,\n",
              "         8.83570671e+00,  1.03587374e-01, -2.76881289e+00,\n",
              "         2.22083640e+00],\n",
              "       [ 2.90201783e+00,  9.75158870e-01,  2.79522681e+00,\n",
              "        -2.81952667e+00,  1.32476175e+00,  1.34600365e+00,\n",
              "        -1.21565841e-01,  4.24171543e+00, -1.90029934e-01,\n",
              "        -3.24526541e-02],\n",
              "       [-1.35008705e+00,  2.60996819e-01,  1.60910654e+00,\n",
              "        -2.58495808e+00,  1.32407701e+00,  4.20542240e-01,\n",
              "         2.35227156e+00,  3.42490196e+00,  3.57805520e-01,\n",
              "        -1.92797267e+00],\n",
              "       [ 5.33647060e+00, -2.33662874e-01,  2.73566651e+00,\n",
              "        -3.11311793e+00,  5.70339203e-01, -1.01477697e-01,\n",
              "        -8.48401904e-01,  2.60998797e+00, -1.80310328e-02,\n",
              "        -5.84207535e-01],\n",
              "       [ 1.87240410e+00, -1.78522575e+00,  1.88153982e-01,\n",
              "         5.66823542e-01,  3.27403307e-01,  7.46257752e-02,\n",
              "        -1.58112264e+00,  2.25238657e+00, -9.69284356e-01,\n",
              "        -1.45481908e+00],\n",
              "       [ 5.05898857e+00,  3.91472936e-01,  4.84954678e-02,\n",
              "         4.95419121e+00,  1.41059864e+00, -3.70899439e-01,\n",
              "        -1.64984620e+00,  2.98469996e+00, -5.43036556e+00,\n",
              "         6.21762276e-01],\n",
              "       [ 3.55841756e+00, -1.32335746e+00, -3.16012192e+00,\n",
              "         4.78327560e+00, -1.39748442e+00, -5.25508702e-01,\n",
              "         2.15483904e+00,  1.39875901e+00, -4.33062124e+00,\n",
              "        -1.04998493e+00],\n",
              "       [ 1.74754298e+00, -4.19204330e+00,  1.79871094e+00,\n",
              "         2.78713799e+00, -7.51025856e-01,  1.27929616e+00,\n",
              "        -7.01206863e-01,  4.26542616e+00,  5.45142412e-01,\n",
              "        -1.37569964e-01],\n",
              "       [ 0.00000000e+00,  0.00000000e+00,  0.00000000e+00,\n",
              "         0.00000000e+00,  0.00000000e+00,  0.00000000e+00,\n",
              "         0.00000000e+00,  0.00000000e+00,  0.00000000e+00,\n",
              "         0.00000000e+00],\n",
              "       [ 0.00000000e+00,  0.00000000e+00,  0.00000000e+00,\n",
              "         0.00000000e+00,  0.00000000e+00,  0.00000000e+00,\n",
              "         0.00000000e+00,  0.00000000e+00,  0.00000000e+00,\n",
              "         0.00000000e+00],\n",
              "       [ 0.00000000e+00,  0.00000000e+00,  0.00000000e+00,\n",
              "         0.00000000e+00,  0.00000000e+00,  0.00000000e+00,\n",
              "         0.00000000e+00,  0.00000000e+00,  0.00000000e+00,\n",
              "         0.00000000e+00],\n",
              "       [ 0.00000000e+00,  0.00000000e+00,  0.00000000e+00,\n",
              "         0.00000000e+00,  0.00000000e+00,  0.00000000e+00,\n",
              "         0.00000000e+00,  0.00000000e+00,  0.00000000e+00,\n",
              "         0.00000000e+00],\n",
              "       [ 0.00000000e+00,  0.00000000e+00,  0.00000000e+00,\n",
              "         0.00000000e+00,  0.00000000e+00,  0.00000000e+00,\n",
              "         0.00000000e+00,  0.00000000e+00,  0.00000000e+00,\n",
              "         0.00000000e+00],\n",
              "       [ 0.00000000e+00,  0.00000000e+00,  0.00000000e+00,\n",
              "         0.00000000e+00,  0.00000000e+00,  0.00000000e+00,\n",
              "         0.00000000e+00,  0.00000000e+00,  0.00000000e+00,\n",
              "         0.00000000e+00],\n",
              "       [ 0.00000000e+00,  0.00000000e+00,  0.00000000e+00,\n",
              "         0.00000000e+00,  0.00000000e+00,  0.00000000e+00,\n",
              "         0.00000000e+00,  0.00000000e+00,  0.00000000e+00,\n",
              "         0.00000000e+00],\n",
              "       [ 0.00000000e+00,  0.00000000e+00,  0.00000000e+00,\n",
              "         0.00000000e+00,  0.00000000e+00,  0.00000000e+00,\n",
              "         0.00000000e+00,  0.00000000e+00,  0.00000000e+00,\n",
              "         0.00000000e+00],\n",
              "       [ 0.00000000e+00,  0.00000000e+00,  0.00000000e+00,\n",
              "         0.00000000e+00,  0.00000000e+00,  0.00000000e+00,\n",
              "         0.00000000e+00,  0.00000000e+00,  0.00000000e+00,\n",
              "         0.00000000e+00],\n",
              "       [ 0.00000000e+00,  0.00000000e+00,  0.00000000e+00,\n",
              "         0.00000000e+00,  0.00000000e+00,  0.00000000e+00,\n",
              "         0.00000000e+00,  0.00000000e+00,  0.00000000e+00,\n",
              "         0.00000000e+00],\n",
              "       [ 0.00000000e+00,  0.00000000e+00,  0.00000000e+00,\n",
              "         0.00000000e+00,  0.00000000e+00,  0.00000000e+00,\n",
              "         0.00000000e+00,  0.00000000e+00,  0.00000000e+00,\n",
              "         0.00000000e+00],\n",
              "       [ 0.00000000e+00,  0.00000000e+00,  0.00000000e+00,\n",
              "         0.00000000e+00,  0.00000000e+00,  0.00000000e+00,\n",
              "         0.00000000e+00,  0.00000000e+00,  0.00000000e+00,\n",
              "         0.00000000e+00],\n",
              "       [ 0.00000000e+00,  0.00000000e+00,  0.00000000e+00,\n",
              "         0.00000000e+00,  0.00000000e+00,  0.00000000e+00,\n",
              "         0.00000000e+00,  0.00000000e+00,  0.00000000e+00,\n",
              "         0.00000000e+00],\n",
              "       [ 0.00000000e+00,  0.00000000e+00,  0.00000000e+00,\n",
              "         0.00000000e+00,  0.00000000e+00,  0.00000000e+00,\n",
              "         0.00000000e+00,  0.00000000e+00,  0.00000000e+00,\n",
              "         0.00000000e+00]])"
            ]
          },
          "execution_count": 43,
          "metadata": {},
          "output_type": "execute_result"
        }
      ],
      "source": [
        "review_vecs[0]"
      ]
    },
    {
      "cell_type": "code",
      "execution_count": 44,
      "metadata": {},
      "outputs": [
        {
          "name": "stdout",
          "output_type": "stream",
          "text": [
            "20491\n",
            "(100, 10)\n"
          ]
        }
      ],
      "source": [
        "# Print dimensions of review vectors\n",
        "print(len(review_vecs))\n",
        "print(review_vecs[0].shape)"
      ]
    },
    {
      "cell_type": "code",
      "execution_count": 45,
      "metadata": {},
      "outputs": [
        {
          "data": {
            "text/plain": [
              "(20491, 100, 10)"
            ]
          },
          "execution_count": 45,
          "metadata": {},
          "output_type": "execute_result"
        }
      ],
      "source": [
        "review_vecs = np.array(review_vecs)\n",
        "review_vecs.shape"
      ]
    },
    {
      "cell_type": "code",
      "execution_count": 46,
      "metadata": {},
      "outputs": [],
      "source": [
        "# # Use review_to_vec to convert reviews to vectors\n",
        "# review_vecs = np.array([review_to_vec(review) for review in new[:100]])\n"
      ]
    },
    {
      "cell_type": "code",
      "execution_count": 47,
      "metadata": {},
      "outputs": [
        {
          "name": "stdout",
          "output_type": "stream",
          "text": [
            "20491\n",
            "5000\n"
          ]
        }
      ],
      "source": [
        "print(len(review_vecs))\n",
        "print(len(review_vecs[0])*50)"
      ]
    },
    {
      "cell_type": "code",
      "execution_count": 48,
      "metadata": {},
      "outputs": [],
      "source": [
        "y = to_categorical(((df['Rating']-1).to_list()))"
      ]
    },
    {
      "cell_type": "code",
      "execution_count": 49,
      "metadata": {},
      "outputs": [],
      "source": [
        "# x = []\n",
        "# for review in review_vecs:\n",
        "#     x.append(review.flatten())\n",
        "# x = np.array(x)\n",
        "# x = np.asarray(x).astype('float32')"
      ]
    },
    {
      "cell_type": "code",
      "execution_count": 50,
      "metadata": {},
      "outputs": [],
      "source": [
        "# Split the data into training and testing sets\n",
        "train_data, test_data, train_labels, test_labels = train_test_split(review_vecs, y, random_state = 1)"
      ]
    },
    {
      "cell_type": "code",
      "execution_count": 51,
      "metadata": {},
      "outputs": [],
      "source": [
        "# Create an CNN model_new for training\n",
        "model_new = tf.keras.Sequential([\n",
        "    # model input is input shape of review vectors\n",
        "    tf.keras.layers.Input(shape=(100, 10, 1)),\n",
        "    # Batch normalization layer\n",
        "    tf.keras.layers.Conv2D(64, 5, activation='relu'),\n",
        "    tf.keras.layers.BatchNormalization(),\n",
        "    # tf.keras.layers.MaxPooling1D(pool_size=4),\n",
        "    tf.keras.layers.BatchNormalization(),\n",
        "    tf.keras.layers.Conv2D(32, 5, activation='relu'),\n",
        "    # tf.keras.layers.MaxPooling1D(pool_size=4),\n",
        "    tf.keras.layers.BatchNormalization(),\n",
        "    tf.keras.layers.Flatten(),\n",
        "    tf.keras.layers.Dense(5, activation='softmax')\n",
        "])\n"
      ]
    },
    {
      "cell_type": "code",
      "execution_count": 52,
      "metadata": {},
      "outputs": [
        {
          "name": "stdout",
          "output_type": "stream",
          "text": [
            "Model: \"sequential_2\"\n",
            "_________________________________________________________________\n",
            " Layer (type)                Output Shape              Param #   \n",
            "=================================================================\n",
            " conv2d (Conv2D)             (None, 96, 6, 64)         1664      \n",
            "                                                                 \n",
            " batch_normalization (BatchN  (None, 96, 6, 64)        256       \n",
            " ormalization)                                                   \n",
            "                                                                 \n",
            " batch_normalization_1 (Batc  (None, 96, 6, 64)        256       \n",
            " hNormalization)                                                 \n",
            "                                                                 \n",
            " conv2d_1 (Conv2D)           (None, 92, 2, 32)         51232     \n",
            "                                                                 \n",
            " batch_normalization_2 (Batc  (None, 92, 2, 32)        128       \n",
            " hNormalization)                                                 \n",
            "                                                                 \n",
            " flatten (Flatten)           (None, 5888)              0         \n",
            "                                                                 \n",
            " dense_8 (Dense)             (None, 5)                 29445     \n",
            "                                                                 \n",
            "=================================================================\n",
            "Total params: 82,981\n",
            "Trainable params: 82,661\n",
            "Non-trainable params: 320\n",
            "_________________________________________________________________\n"
          ]
        }
      ],
      "source": [
        "model_new.compile(loss='categorical_crossentropy',optimizer='adam',metrics=['accuracy'])\n",
        "model_new.summary()"
      ]
    },
    {
      "cell_type": "code",
      "execution_count": 53,
      "metadata": {},
      "outputs": [
        {
          "name": "stdout",
          "output_type": "stream",
          "text": [
            "(100, 10)\n",
            "(100, 10)\n",
            "(100, 10)\n",
            "(100, 10)\n",
            "(100, 10)\n",
            "(100, 10)\n",
            "(100, 10)\n",
            "(100, 10)\n",
            "(100, 10)\n",
            "(100, 10)\n",
            "(100, 10)\n",
            "(100, 10)\n",
            "(100, 10)\n",
            "(100, 10)\n",
            "(100, 10)\n",
            "(100, 10)\n",
            "(100, 10)\n",
            "(100, 10)\n",
            "(100, 10)\n",
            "(100, 10)\n",
            "(100, 10)\n",
            "(100, 10)\n",
            "(100, 10)\n",
            "(100, 10)\n",
            "(100, 10)\n",
            "(100, 10)\n",
            "(100, 10)\n",
            "(100, 10)\n",
            "(100, 10)\n",
            "(100, 10)\n",
            "(100, 10)\n",
            "(100, 10)\n",
            "(100, 10)\n",
            "(100, 10)\n",
            "(100, 10)\n",
            "(100, 10)\n",
            "(100, 10)\n",
            "(100, 10)\n",
            "(100, 10)\n",
            "(100, 10)\n",
            "(100, 10)\n",
            "(100, 10)\n",
            "(100, 10)\n",
            "(100, 10)\n",
            "(100, 10)\n",
            "(100, 10)\n",
            "(100, 10)\n",
            "(100, 10)\n",
            "(100, 10)\n",
            "(100, 10)\n",
            "(100, 10)\n",
            "(100, 10)\n",
            "(100, 10)\n",
            "(100, 10)\n",
            "(100, 10)\n",
            "(100, 10)\n",
            "(100, 10)\n",
            "(100, 10)\n",
            "(100, 10)\n",
            "(100, 10)\n",
            "(100, 10)\n",
            "(100, 10)\n",
            "(100, 10)\n",
            "(100, 10)\n",
            "(100, 10)\n",
            "(100, 10)\n",
            "(100, 10)\n",
            "(100, 10)\n",
            "(100, 10)\n",
            "(100, 10)\n",
            "(100, 10)\n",
            "(100, 10)\n",
            "(100, 10)\n",
            "(100, 10)\n",
            "(100, 10)\n"
          ]
        }
      ],
      "source": [
        "for i in range(75):\n",
        "    # train_data[i] = train_data[i].reshape(100, 10, 1)\n",
        "    print(train_data[i].shape)\n",
        "# train_data[0].reshape(100, 10, 1).shape"
      ]
    },
    {
      "cell_type": "code",
      "execution_count": 54,
      "metadata": {},
      "outputs": [
        {
          "name": "stdout",
          "output_type": "stream",
          "text": [
            "Epoch 1/15\n",
            "241/241 [==============================] - 31s 30ms/step - loss: 1.3810 - accuracy: 0.4628 - val_loss: 1.2878 - val_accuracy: 0.4290\n",
            "Epoch 2/15\n",
            "241/241 [==============================] - 8s 33ms/step - loss: 1.1026 - accuracy: 0.5451 - val_loss: 1.1624 - val_accuracy: 0.4817\n",
            "Epoch 3/15\n",
            "241/241 [==============================] - 8s 35ms/step - loss: 0.9395 - accuracy: 0.6012 - val_loss: 1.1875 - val_accuracy: 0.5110\n",
            "Epoch 4/15\n",
            "241/241 [==============================] - 9s 36ms/step - loss: 0.8189 - accuracy: 0.6601 - val_loss: 1.2853 - val_accuracy: 0.5186\n",
            "Epoch 5/15\n",
            "241/241 [==============================] - 8s 35ms/step - loss: 0.6898 - accuracy: 0.7205 - val_loss: 1.2897 - val_accuracy: 0.5290\n",
            "Epoch 6/15\n",
            "241/241 [==============================] - 8s 35ms/step - loss: 0.5699 - accuracy: 0.7745 - val_loss: 1.3993 - val_accuracy: 0.5247\n",
            "Epoch 7/15\n",
            "241/241 [==============================] - 8s 35ms/step - loss: 0.4758 - accuracy: 0.8129 - val_loss: 1.5741 - val_accuracy: 0.5061\n",
            "Epoch 8/15\n",
            "241/241 [==============================] - 8s 35ms/step - loss: 0.3659 - accuracy: 0.8618 - val_loss: 1.7216 - val_accuracy: 0.5050\n",
            "Epoch 9/15\n",
            "241/241 [==============================] - 8s 35ms/step - loss: 0.2930 - accuracy: 0.8930 - val_loss: 1.8616 - val_accuracy: 0.4978\n",
            "Epoch 10/15\n",
            "241/241 [==============================] - 9s 35ms/step - loss: 0.2323 - accuracy: 0.9187 - val_loss: 2.0065 - val_accuracy: 0.4931\n",
            "Epoch 11/15\n",
            "241/241 [==============================] - 8s 35ms/step - loss: 0.1844 - accuracy: 0.9358 - val_loss: 2.1524 - val_accuracy: 0.4814\n",
            "Epoch 12/15\n",
            "241/241 [==============================] - 8s 35ms/step - loss: 0.1366 - accuracy: 0.9557 - val_loss: 2.3056 - val_accuracy: 0.4954\n",
            "Epoch 13/15\n",
            "241/241 [==============================] - 8s 35ms/step - loss: 0.0981 - accuracy: 0.9703 - val_loss: 2.3422 - val_accuracy: 0.4944\n",
            "Epoch 14/15\n",
            "241/241 [==============================] - 8s 35ms/step - loss: 0.1057 - accuracy: 0.9665 - val_loss: 2.7535 - val_accuracy: 0.5038\n",
            "Epoch 15/15\n",
            "241/241 [==============================] - 9s 36ms/step - loss: 0.1257 - accuracy: 0.9570 - val_loss: 2.8291 - val_accuracy: 0.4761\n"
          ]
        }
      ],
      "source": [
        "# Train model\n",
        "num_epochs = 15\n",
        "history_cnn = model_new.fit(train_data,\n",
        "    train_labels,\n",
        "    epochs=num_epochs,\n",
        "    batch_size=64,\n",
        "    shuffle=True,\n",
        "    validation_data=(test_data, test_labels)\n",
        "    )\n"
      ]
    },
    {
      "cell_type": "code",
      "execution_count": 55,
      "metadata": {},
      "outputs": [
        {
          "data": {
            "text/plain": [
              "[<matplotlib.lines.Line2D at 0x21d62e62190>]"
            ]
          },
          "execution_count": 55,
          "metadata": {},
          "output_type": "execute_result"
        },
        {
          "data": {
            "image/png": "[encoded data removed]",
            "text/plain": [
              "<Figure size 640x480 with 1 Axes>"
            ]
          },
          "metadata": {},
          "output_type": "display_data"
        }
      ],
      "source": [
        "# Plot history of both models\n",
        "label=[\"CNN\",\"RNN\",\"MLP\"]\n",
        "colors=[\"r\",\"g\",\"b\"]\n",
        "plt.plot(history_cnn.history['accuracy'],c=colors[0], label=str(label[0]))\n",
        "plt.plot(history_rnn.history['accuracy'],c=colors[1], label=str(label[1]))\n",
        "plt.plot(history_mlp.history['accuracy'],c=colors[2], label=str(label[2]))\n"
      ]
    },
    {
      "cell_type": "code",
      "execution_count": 56,
      "metadata": {},
      "outputs": [
        {
          "data": {
            "text/plain": [
              "[<matplotlib.lines.Line2D at 0x21d62ad1130>]"
            ]
          },
          "execution_count": 56,
          "metadata": {},
          "output_type": "execute_result"
        },
        {
          "data": {
            "image/png": "[encoded data removed]",
            "text/plain": [
              "<Figure size 640x480 with 1 Axes>"
            ]
          },
          "metadata": {},
          "output_type": "display_data"
        }
      ],
      "source": [
        "# Plot history of Loss\n",
        "label=[\"CNN\",\"RNN\",\"MLP\"]\n",
        "colors=[\"r\",\"g\",\"b\"]\n",
        "plt.plot(history_cnn.history['loss'],c=colors[0], label=str(label[0]))\n",
        "plt.plot(history_rnn.history['loss'],c=colors[1], label=str(label[1]))\n",
        "plt.plot(history_mlp.history['loss'],c=colors[2], label=str(label[2]))"
      ]
    },
    {
      "cell_type": "code",
      "execution_count": 57,
      "metadata": {},
      "outputs": [],
      "source": [
        "model.save('model_rnn.h5')"
      ]
    },
    {
      "cell_type": "code",
      "execution_count": 58,
      "metadata": {},
      "outputs": [],
      "source": [
        "model_mlp.save('model_mlp.h5')"
      ]
    },
    {
      "cell_type": "code",
      "execution_count": 59,
      "metadata": {},
      "outputs": [],
      "source": [
        "model_new.save('model_cnn.h5')"
      ]
    },
    {
      "cell_type": "code",
      "execution_count": 34,
      "metadata": {},
      "outputs": [],
      "source": [
        "import pandas as pd\n",
        "import numpy as np\n",
        "import nltk\n",
        "from nltk.corpus import stopwords\n",
        "from nltk.stem.wordnet import WordNetLemmatizer\n",
        "import string\n",
        "import gensim\n",
        "from gensim import corpora\n",
        "\n",
        "# Load the dataset\n",
        "df = pd.read_csv(r'C:\\Users\\saket\\Desktop\\xwebsite\\ML\\NLP\\tripadvisor_hotel_reviews.csv')\n",
        "\n",
        "# Tokenization\n",
        "def tokenize(text):\n",
        "    tokens = nltk.word_tokenize(text)\n",
        "    tokens = [token for token in tokens if len(token) > 4]\n",
        "    tokens = [token.lower() for token in tokens]\n",
        "    tokens = [token for token in tokens if token not in stopwords.words('english')]\n",
        "    tokens = [WordNetLemmatizer().lemmatize(token) for token in tokens]\n",
        "    return tokens\n",
        "\n",
        "# Create a dictionary from the data\n",
        "def create_dict(data):\n",
        "    dictionary = corpora.Dictionary(data)\n",
        "    dictionary.filter_extremes(no_below=15, no_above=0.5, keep_n=100000)\n",
        "    return dictionary\n",
        "\n",
        "# Create a corpus from the data\n",
        "def create_corpus(data, dictionary):\n",
        "    corpus = [dictionary.doc2bow(text) for text in data]\n",
        "    return corpus\n",
        "\n",
        "# Train the LDA model\n",
        "def train_lda_model(corpus, dictionary, num_topics):\n",
        "    lda_model = gensim.models.ldamodel.LdaModel(corpus=corpus,\n",
        "                                                id2word=dictionary,\n",
        "                                                num_topics=num_topics,\n",
        "                                                random_state=100,\n",
        "                                                update_every=1,\n",
        "                                                chunksize=100,\n",
        "                                                passes=10,\n",
        "                                                alpha='auto',\n",
        "                                                per_word_topics=20)\n",
        "    return lda_model\n",
        "\n",
        "# Run the code\n",
        "data = df['Review'].apply(tokenize)\n",
        "dictionary = create_dict(data)\n",
        "corpus = create_corpus(data, dictionary)\n",
        "lda_model = train_lda_model(corpus, dictionary, 5)"
      ]
    },
    {
      "cell_type": "code",
      "execution_count": 48,
      "metadata": {},
      "outputs": [
        {
          "name": "stderr",
          "output_type": "stream",
          "text": [
            "C:\\Users\\saket\\AppData\\Roaming\\Python\\Python39\\site-packages\\pyLDAvis\\_prepare.py:246: FutureWarning: In a future version of pandas all arguments of DataFrame.drop except for the argument 'labels' will be keyword-only.\n",
            "  default_term_info = default_term_info.sort_values(\n"
          ]
        },
        {
          "data": {
            "text/html": [
              "\n",
              "<link rel=\"stylesheet\" type=\"text/css\" href=\"https://cdn.jsdelivr.net/gh/bmabey/pyLDAvis@3.4.0/pyLDAvis/js/ldavis.v1.0.0.css\">\n",
              "\n",
              "\n",
              "<div id=\"ldavis_el556015266192963681370736397\" style=\"background-color:white;\"></div>\n",
              "<script type=\"text/javascript\">\n",
              "\n",
              "var ldavis_el556015266192963681370736397_data = {\"mdsDat\": {\"x\": [-0.09859530452342838, -0.19058218092163157, -0.15245947537599677, 0.05815005894601857, 0.38348690187503837], \"y\": [0.21299509678721476, 0.030616248692139084, -0.0005166003789294203, -0.3687873676858935, 0.12569262258546898], \"topics\": [1, 2, 3, 4, 5], \"cluster\": [1, 1, 1, 1, 1], \"Freq\": [32.16853178738359, 23.844007749870954, 22.465724067675218, 13.227831163324888, 8.293905231745349]}, \"tinfo\": {\"Term\": [\"beach\", \"resort\", \"really\", \"location\", \"place\", \"service\", \"water\", \"little\", \"restaurant\", \"people\", \"floor\", \"drink\", \"shower\", \"breakfast\", \"bathroom\", \"buffet\", \"helpful\", \"stayed\", \"beautiful\", \"towel\", \"comfortable\", \"vacation\", \"problem\", \"punta\", \"excellent\", \"wonderful\", \"room\", \"clean\", \"lovely\", \"ocean\", \"location\", \"helpful\", \"comfortable\", \"modern\", \"street\", \"station\", \"walking\", \"value\", \"internet\", \"located\", \"block\", \"noise\", \"spacious\", \"shopping\", \"window\", \"access\", \"business\", \"weekend\", \"metro\", \"barcelona\", \"square\", \"distance\", \"central\", \"parking\", \"centre\", \"center\", \"london\", \"train\", \"corner\", \"decor\", \"bedroom\", \"quiet\", \"close\", \"excellent\", \"short\", \"breakfast\", \"price\", \"clean\", \"room\", \"bathroom\", \"small\", \"stayed\", \"standard\", \"friendly\", \"floor\", \"minute\", \"night\", \"recommend\", \"restaurant\", \"large\", \"really\", \"little\", \"buffet\", \"wonderful\", \"lovely\", \"loved\", \"amazing\", \"fresh\", \"villa\", \"absolutely\", \"fruit\", \"fabulous\", \"garden\", \"selection\", \"believe\", \"balcony\", \"usually\", \"variety\", \"palace\", \"relax\", \"stuff\", \"swimming\", \"choose\", \"juice\", \"birthday\", \"bread\", \"mexican\", \"atmosphere\", \"sight\", \"chocolate\", \"house\", \"liked\", \"didnt\", \"place\", \"worth\", \"plenty\", \"lounge\", \"spend\", \"looking\", \"enjoyed\", \"happy\", \"pretty\", \"special\", \"fantastic\", \"especially\", \"evening\", \"holiday\", \"breeze\", \"review\", \"beautiful\", \"husband\", \"coffee\", \"right\", \"thing\", \"couple\", \"quite\", \"night\", \"stayed\", \"restaurant\", \"friendly\", \"better\", \"check\", \"arrived\", \"called\", \"spanish\", \"issue\", \"charge\", \"ready\", \"wedding\", \"checked\", \"arrival\", \"later\", \"flight\", \"manager\", \"phone\", \"decided\", \"month\", \"finally\", \"driver\", \"ended\", \"wrong\", \"spoke\", \"upgrade\", \"leaving\", \"received\", \"complain\", \"customer\", \"checking\", \"completely\", \"smile\", \"crowded\", \"asked\", \"check-in\", \"requested\", \"luggage\", \"person\", \"guest\", \"reservation\", \"service\", \"problem\", \"hour\", \"given\", \"request\", \"experience\", \"booked\", \"early\", \"travel\", \"airport\", \"nothing\", \"leave\", \"morning\", \"night\", \"people\", \"expect\", \"better\", \"wanted\", \"thing\", \"think\", \"review\", \"room\", \"going\", \"minute\", \"time\", \"money\", \"beach\", \"resort\", \"vacation\", \"punta\", \"ocean\", \"entertainment\", \"ground\", \"lunch\", \"dominican\", \"activity\", \"italian\", \"majestic\", \"island\", \"show\", \"country\", \"pool\", \"japanese\", \"excursion\", \"carte\", \"casino\", \"royal\", \"bartender\", \"everyday\", \"steak\", \"language\", \"sport\", \"chicken\", \"disco\", \"tipped\", \"employee\", \"bring\", \"drink\", \"chair\", \"water\", \"people\", \"restaurant\", \"beautiful\", \"brought\", \"dinner\", \"group\", \"dollar\", \"different\", \"family\", \"change\", \"smell\", \"toilet\", \"cleaned\", \"daily\", \"construction\", \"item\", \"moved\", \"housekeeping\", \"luxury\", \"dirty\", \"worst\", \"sheet\", \"inclusive\", \"running\", \"traveled\", \"tipping\", \"broken\", \"clothes\", \"channel\", \"annoying\", \"notice\", \"pressure\", \"disappointing\", \"waited\", \"musty\", \"complex\", \"junior\", \"clearly\", \"colonial\", \"waiting\", \"cleaning\", \"towel\", \"shower\", \"water\", \"served\", \"table\", \"floor\", \"pillow\", \"sleep\", \"light\", \"bathroom\", \"building\", \"glass\", \"bottle\", \"instead\", \"room\"], \"Freq\": [9889.0, 8616.0, 8350.0, 9604.0, 8422.0, 10552.0, 5638.0, 6039.0, 10256.0, 6895.0, 5197.0, 4623.0, 3605.0, 9300.0, 5975.0, 4254.0, 4998.0, 9505.0, 4840.0, 2740.0, 4481.0, 2497.0, 4438.0, 2443.0, 6309.0, 3351.0, 12479.0, 9029.0, 3125.0, 2180.0, 9603.49401305472, 4998.256234628831, 4480.400153511196, 3391.1961518117464, 3391.9268062036936, 2842.5600366760136, 2567.3721395647462, 2346.0982377885603, 2289.3763646864995, 2265.295980421329, 2130.4224115141333, 2060.83109864675, 1931.1040427862401, 1894.9741753511546, 1817.524629396256, 1794.833751335228, 1765.6939913249294, 1588.6432623362105, 1563.672922980799, 1524.5928354786731, 1519.1656068186858, 1490.0634619789357, 1426.9618935842245, 1433.2804303981416, 1345.9705681175462, 1352.9678918820068, 1204.838087402986, 1169.00201519686, 1182.0904708712746, 1144.7445599969494, 1177.1074981224403, 2609.424276561425, 2890.615266238629, 5735.865013119467, 1832.7366734281054, 7733.826999713241, 3826.2259726922107, 7288.2642094452585, 9297.381935540378, 4900.416740517817, 5011.373375253448, 6999.697218579225, 1813.7834985009943, 4365.223042517487, 3666.0564271018343, 3667.6934537567795, 6200.831097501699, 3184.200499713652, 4121.118446099098, 2327.9249687716683, 8350.239515135323, 6038.671188956568, 4253.970123414931, 3350.377259594294, 3125.117168148719, 3016.4790111225147, 2352.3617593081867, 1794.8853829452214, 1772.0501000442168, 1473.7619271493772, 1461.8925705703389, 1216.0065619294053, 1045.4111551987382, 1000.4631597629353, 936.8268884024927, 922.3354980045273, 916.6921345188908, 873.0636473811428, 884.4427098456822, 829.409218048328, 791.2691767004175, 759.8599983298011, 746.8667028356218, 710.3417637146086, 648.4730384077451, 645.8176407863996, 632.4869630336956, 613.5407361075918, 600.1287549806575, 553.8998970940899, 971.3217170368658, 1032.4521595655624, 916.5493855846953, 8066.937372739236, 2310.5218126808504, 1792.8391588786556, 1059.4452141166582, 903.1155408036711, 2117.142673132675, 1931.2660431423794, 1522.8368043019702, 2344.4154242584154, 1249.3417476997568, 2601.1439332107648, 1664.941596468375, 1787.6065913891302, 1464.2907526648228, 1345.720211717024, 2652.490758271537, 2630.8260834922626, 1745.8003428708498, 1589.745202168545, 1993.8243093196681, 2180.208817953593, 1719.221360520912, 1897.755279526034, 2992.5792958878374, 2475.789374530316, 2226.4644203711578, 2011.7936922511135, 1716.4277605356403, 2838.932043741459, 2653.2615625924773, 1429.1997312467486, 1332.3774445761085, 1308.4496243105327, 1303.1079022900412, 1269.7304866932188, 1267.4156186911787, 1238.35774451829, 1140.2914037110286, 1123.3408196190212, 1097.6370030895391, 1069.0442947939448, 984.6359019859834, 895.1796656539524, 815.839464227369, 776.8383544449994, 763.1403406957049, 759.2799174886889, 752.6869597348791, 737.8554506402216, 686.981586605948, 673.8676760546863, 666.813269214855, 660.5407744645389, 637.9530149440619, 614.9243431842588, 611.0608331505922, 586.1537958757174, 574.4939066697746, 2380.6710826818708, 1009.9679763916961, 774.2836589111528, 1250.303637662873, 1500.6551064680489, 2863.8146383889784, 2128.7827521835097, 8906.43177013303, 3952.053829239245, 1684.8382411431783, 1411.023110006325, 923.5649265993392, 2381.6311487666444, 2707.4942090048266, 1608.8245679059958, 1289.3211265254288, 2015.8571838381986, 1532.7082104353367, 1403.4549670168003, 1859.625831451676, 4112.873465957683, 2602.7308402881094, 1358.225397011231, 1900.9428171794816, 1506.7059166676881, 2018.7978586962845, 1733.4705020610152, 1866.5389372266682, 2383.5293581673263, 1609.7218895143628, 1824.456418489534, 1492.6055445139677, 1456.6624090024038, 9888.358386358923, 8615.68533462508, 2496.9260426535666, 2442.5081483659415, 2179.4006643815947, 1446.9255074655937, 1380.5201065486133, 1369.234980714893, 1241.2400274350375, 1116.0037808141697, 1032.9557087867474, 1051.0521033943662, 984.3351267125283, 925.1929277979015, 916.8442551785497, 900.7713226095614, 911.2717968087825, 732.3887317336057, 707.3162299355375, 703.8535846020899, 693.7949545113188, 665.5781339528988, 596.9027552195209, 568.0464254037314, 564.5913469102874, 556.8947207636055, 529.6144079326996, 518.3357361683943, 494.6964828886698, 495.4076545719566, 1266.1655693306814, 3292.644254842658, 1390.8783686665888, 3114.211342562994, 3602.6342474262615, 3908.1357685629782, 2209.508824017404, 809.2836275133315, 1207.5471144398384, 819.1646594181339, 783.4536998678363, 1039.4391553451926, 862.3269533849941, 1200.982566946388, 1018.5742840481772, 929.0326502611468, 914.6335533470804, 887.5595449035873, 767.0654158400159, 699.0107470229705, 674.9602958946207, 667.2233232999452, 660.4384482189791, 642.0499748107832, 619.208704735069, 563.6411234325809, 540.7623164623647, 460.7083537028109, 429.7892090500098, 434.2692164774829, 398.8057353698277, 402.31680717230273, 395.8642754757453, 378.24142447585746, 380.5707352991902, 379.4094870467831, 361.7458431640225, 358.5849761678751, 359.62103166742907, 354.6952096608289, 334.1034321792459, 334.10431594751793, 346.8206483004318, 817.58984326926, 586.9371620554415, 1980.0690453368761, 2032.101786121783, 2523.847941996447, 853.4145530295835, 901.1879028561915, 1530.5811531583042, 624.9223596420775, 626.5992866812226, 668.9191350716402, 1043.2452800458611, 719.7487881535768, 568.2069959248012, 582.1034147485525, 489.27127911410156, 489.6046458091407], \"Total\": [9889.0, 8616.0, 8350.0, 9604.0, 8422.0, 10552.0, 5638.0, 6039.0, 10256.0, 6895.0, 5197.0, 4623.0, 3605.0, 9300.0, 5975.0, 4254.0, 4998.0, 9505.0, 4840.0, 2740.0, 4481.0, 2497.0, 4438.0, 2443.0, 6309.0, 3351.0, 12479.0, 9029.0, 3125.0, 2180.0, 9604.204842881985, 4998.972923589202, 4481.115798918011, 3391.907459513935, 3392.639407129322, 2843.2719516443244, 2568.09347518505, 2346.811638161161, 2290.093262388052, 2266.0097903554083, 2131.1445998504337, 2061.5515093923527, 1931.8229781678033, 1895.691499618828, 1818.2405860048282, 1795.5503335282779, 1766.409612283687, 1589.3601631146325, 1564.380496011394, 1525.3055960208242, 1519.8782452707267, 1490.7764963172447, 1427.670995622403, 1434.001810444499, 1346.6827014651997, 1353.6871501833652, 1205.5543010924325, 1169.7113861750217, 1182.8094064543254, 1145.462435759453, 1177.8992288368675, 2647.0259041041477, 3017.0772008828753, 6309.369826957582, 1884.5884267795243, 9300.301349484076, 4321.645002809033, 9029.711104505737, 12479.206867114077, 5975.698273864617, 6160.606439925156, 9505.43792687717, 1895.8403654994513, 6377.552375971841, 5197.176497671317, 5687.993411465749, 13403.60669819565, 4793.024130345299, 10256.083902919952, 3706.063030645214, 8350.973036119174, 6039.673795419604, 4254.704922758773, 3351.1072844717737, 3125.848107091371, 3017.209088898624, 2353.090892755396, 1795.6206125338854, 1772.7863093635478, 1474.4935367946805, 1462.6244253257107, 1216.7386724751232, 1046.1418023479296, 1001.1963561587205, 937.5656582394049, 923.0660835010912, 917.4347715202401, 873.7959452797443, 885.2022407455527, 830.1416927423625, 792.010341445367, 760.5943670711015, 747.5996349692115, 711.0714003213384, 649.2054128474341, 646.5512687017178, 633.2302555814259, 614.2717892278594, 600.8672674545934, 554.63178754627, 972.6881942532725, 1035.358422006597, 920.6833556168249, 8422.944883878656, 2374.2432209461085, 1862.852409612549, 1080.124745730645, 914.2813451084402, 2284.5477127478052, 2072.654848284176, 1647.1955503539466, 2737.2405323325374, 1327.6375985772993, 3231.319885944908, 1985.3848968249724, 2181.656892967372, 1707.6613876286608, 1579.6668966804875, 4541.480102315251, 4840.896267994727, 2576.360734325087, 2206.9832850927305, 3705.7387161237657, 4820.010180772484, 2999.9482462971996, 3893.0265920046527, 13403.60669819565, 9505.43792687717, 10256.083902919952, 6377.552375971841, 3938.471612794668, 2839.661319364881, 2653.990245827613, 1429.9285206730758, 1333.118910133704, 1309.1827377721636, 1303.8390277838753, 1270.4612081532953, 1268.1543624309684, 1239.0851109529583, 1141.01997291593, 1124.0677911453506, 1098.3649879581267, 1069.7709912889068, 985.3658341793143, 895.9072445767805, 816.5741867883446, 777.5647594425399, 763.8709459621426, 760.0124670758175, 753.4178158520889, 738.5869241430547, 687.7089316475741, 674.5962482989707, 667.5404629018727, 661.2786660875807, 638.6769297616805, 615.654830236635, 611.7947060007662, 586.8820568351546, 575.2301565713672, 2397.167269784879, 1011.6128858214994, 777.5434226792032, 1276.8760677760743, 1563.669039360726, 3131.1256839244306, 2292.4106602815386, 10552.227637252121, 4438.182741523831, 1853.7009289735568, 1538.4744047984218, 951.3471405671162, 3150.6204889803666, 3759.6180408464734, 2011.607783274676, 1516.1992150648412, 2899.5394605783063, 2004.5179303056527, 1769.7040411549808, 3068.076315441691, 13403.60669819565, 6895.526500754435, 1746.8664874191097, 3938.471612794668, 2251.134438292721, 4820.010180772484, 3320.2954517284243, 4541.480102315251, 12479.206867114077, 3303.8679022048336, 5687.993411465749, 2796.762920637991, 2518.446055359779, 9889.096398346028, 8616.42116820607, 2497.666412173195, 2443.246601210649, 2180.1414534602504, 1447.6708662189535, 1381.2665260672095, 1369.9769842433382, 1241.9773501508344, 1116.7426701740728, 1033.701606820871, 1051.8271359877676, 985.0776086958209, 925.9339455815166, 917.5877824553356, 901.5074287163814, 912.0197058099535, 733.1265710990305, 708.0530748308322, 704.5926739484931, 694.5462468690325, 666.3207240395762, 597.6489064278238, 568.7823578329649, 565.3345833488976, 557.6362735797325, 530.3545730214519, 519.0720254104417, 495.434758122575, 496.1674294530221, 1475.3335235675188, 4623.942706043462, 1809.997082069976, 5638.626149347319, 6895.526500754435, 10256.083902919952, 4840.896267994727, 993.1939041316393, 2448.119889194109, 1047.1288059355904, 973.1291098582542, 2304.3661103349395, 2233.5729097536646, 1201.7213133844648, 1019.3100362258056, 929.768048676036, 915.3762128938407, 888.2979530471273, 767.8065618644695, 699.7480238918727, 675.6993292173291, 667.9608636012224, 661.1848126961346, 642.7817276058786, 619.9431306957274, 564.3760366741991, 541.5069523367144, 461.44944116147235, 430.5321199245182, 435.0215058420336, 399.5370393706443, 403.0552182695065, 396.60023577990273, 378.9758920237278, 381.3115042365988, 380.1482993448669, 362.4789541161472, 359.3216809478392, 360.3625302484041, 355.43249119422217, 334.8438603001086, 334.84518214283423, 347.6042264877283, 904.4869917503568, 632.740158488939, 2740.2233093190503, 3605.043045083308, 5638.626149347319, 1294.2026757240556, 1685.6055445086818, 5197.176497671317, 1046.9746433103244, 1155.829036335816, 1435.842454552649, 5975.698273864617, 2169.6265711976944, 1128.4462281842432, 1323.036029907019, 710.0432262786976, 12479.206867114077], \"Category\": [\"Default\", \"Default\", \"Default\", \"Default\", \"Default\", \"Default\", \"Default\", \"Default\", \"Default\", \"Default\", \"Default\", \"Default\", \"Default\", \"Default\", \"Default\", \"Default\", \"Default\", \"Default\", \"Default\", \"Default\", \"Default\", \"Default\", \"Default\", \"Default\", \"Default\", \"Default\", \"Default\", \"Default\", \"Default\", \"Default\", \"Topic1\", \"Topic1\", \"Topic1\", \"Topic1\", \"Topic1\", \"Topic1\", \"Topic1\", \"Topic1\", \"Topic1\", \"Topic1\", \"Topic1\", \"Topic1\", \"Topic1\", \"Topic1\", \"Topic1\", \"Topic1\", \"Topic1\", \"Topic1\", \"Topic1\", \"Topic1\", \"Topic1\", \"Topic1\", \"Topic1\", \"Topic1\", \"Topic1\", \"Topic1\", \"Topic1\", \"Topic1\", \"Topic1\", \"Topic1\", \"Topic1\", \"Topic1\", \"Topic1\", \"Topic1\", \"Topic1\", \"Topic1\", \"Topic1\", \"Topic1\", \"Topic1\", \"Topic1\", \"Topic1\", \"Topic1\", \"Topic1\", \"Topic1\", \"Topic1\", \"Topic1\", \"Topic1\", \"Topic1\", \"Topic1\", \"Topic1\", \"Topic2\", \"Topic2\", \"Topic2\", \"Topic2\", \"Topic2\", \"Topic2\", \"Topic2\", \"Topic2\", \"Topic2\", \"Topic2\", \"Topic2\", \"Topic2\", \"Topic2\", \"Topic2\", \"Topic2\", \"Topic2\", \"Topic2\", \"Topic2\", \"Topic2\", \"Topic2\", \"Topic2\", \"Topic2\", \"Topic2\", \"Topic2\", \"Topic2\", \"Topic2\", \"Topic2\", \"Topic2\", \"Topic2\", \"Topic2\", \"Topic2\", \"Topic2\", \"Topic2\", \"Topic2\", \"Topic2\", \"Topic2\", \"Topic2\", \"Topic2\", \"Topic2\", \"Topic2\", \"Topic2\", \"Topic2\", \"Topic2\", \"Topic2\", \"Topic2\", \"Topic2\", \"Topic2\", \"Topic2\", \"Topic2\", \"Topic2\", \"Topic2\", \"Topic2\", \"Topic2\", \"Topic2\", \"Topic2\", \"Topic2\", \"Topic2\", \"Topic2\", \"Topic2\", \"Topic2\", \"Topic2\", \"Topic3\", \"Topic3\", \"Topic3\", \"Topic3\", \"Topic3\", \"Topic3\", \"Topic3\", \"Topic3\", \"Topic3\", \"Topic3\", \"Topic3\", \"Topic3\", \"Topic3\", \"Topic3\", \"Topic3\", \"Topic3\", \"Topic3\", \"Topic3\", \"Topic3\", \"Topic3\", \"Topic3\", \"Topic3\", \"Topic3\", \"Topic3\", \"Topic3\", \"Topic3\", \"Topic3\", \"Topic3\", \"Topic3\", \"Topic3\", \"Topic3\", \"Topic3\", \"Topic3\", \"Topic3\", \"Topic3\", \"Topic3\", \"Topic3\", \"Topic3\", \"Topic3\", \"Topic3\", \"Topic3\", \"Topic3\", \"Topic3\", \"Topic3\", \"Topic3\", \"Topic3\", \"Topic3\", \"Topic3\", \"Topic3\", \"Topic3\", \"Topic3\", \"Topic3\", \"Topic3\", \"Topic3\", \"Topic3\", \"Topic3\", \"Topic3\", \"Topic3\", \"Topic3\", \"Topic3\", \"Topic3\", \"Topic3\", \"Topic3\", \"Topic4\", \"Topic4\", \"Topic4\", \"Topic4\", \"Topic4\", \"Topic4\", \"Topic4\", \"Topic4\", \"Topic4\", \"Topic4\", \"Topic4\", \"Topic4\", \"Topic4\", \"Topic4\", \"Topic4\", \"Topic4\", \"Topic4\", \"Topic4\", \"Topic4\", \"Topic4\", \"Topic4\", \"Topic4\", \"Topic4\", \"Topic4\", \"Topic4\", \"Topic4\", \"Topic4\", \"Topic4\", \"Topic4\", \"Topic4\", \"Topic4\", \"Topic4\", \"Topic4\", \"Topic4\", \"Topic4\", \"Topic4\", \"Topic4\", \"Topic4\", \"Topic4\", \"Topic4\", \"Topic4\", \"Topic4\", \"Topic4\", \"Topic5\", \"Topic5\", \"Topic5\", \"Topic5\", \"Topic5\", \"Topic5\", \"Topic5\", \"Topic5\", \"Topic5\", \"Topic5\", \"Topic5\", \"Topic5\", \"Topic5\", \"Topic5\", \"Topic5\", \"Topic5\", \"Topic5\", \"Topic5\", \"Topic5\", \"Topic5\", \"Topic5\", \"Topic5\", \"Topic5\", \"Topic5\", \"Topic5\", \"Topic5\", \"Topic5\", \"Topic5\", \"Topic5\", \"Topic5\", \"Topic5\", \"Topic5\", \"Topic5\", \"Topic5\", \"Topic5\", \"Topic5\", \"Topic5\", \"Topic5\", \"Topic5\", \"Topic5\", \"Topic5\", \"Topic5\", \"Topic5\", \"Topic5\", \"Topic5\", \"Topic5\", \"Topic5\"], \"logprob\": [30.0, 29.0, 28.0, 27.0, 26.0, 25.0, 24.0, 23.0, 22.0, 21.0, 20.0, 19.0, 18.0, 17.0, 16.0, 15.0, 14.0, 13.0, 12.0, 11.0, 10.0, 9.0, 8.0, 7.0, 6.0, 5.0, 4.0, 3.0, 2.0, 1.0, -3.6974, -4.3504, -4.4598, -4.7383, -4.7381, -4.9148, -5.0166, -5.1068, -5.1312, -5.1418, -5.2032, -5.2364, -5.3014, -5.3203, -5.362, -5.3746, -5.391, -5.4966, -5.5125, -5.5378, -5.5414, -5.5607, -5.604, -5.5996, -5.6624, -5.6572, -5.7732, -5.8034, -5.7922, -5.8243, -5.7965, -5.0004, -4.8981, -4.2128, -5.3537, -3.9139, -4.6176, -3.9733, -3.7298, -4.3702, -4.3478, -4.0137, -5.3641, -4.4859, -4.6604, -4.66, -4.1348, -4.8013, -4.5434, -5.1145, -3.5378, -3.8619, -4.2122, -4.451, -4.5206, -4.556, -4.8046, -5.0751, -5.0879, -5.2722, -5.2803, -5.4645, -5.6157, -5.6596, -5.7253, -5.7409, -5.747, -5.7958, -5.7829, -5.8471, -5.8942, -5.9347, -5.9519, -6.0021, -6.0932, -6.0973, -6.1182, -6.1486, -6.1707, -6.2508, -5.6892, -5.6281, -5.7472, -3.5723, -4.8226, -5.0763, -5.6023, -5.762, -4.91, -5.0019, -5.2395, -4.808, -5.4374, -4.7041, -5.1503, -5.0792, -5.2787, -5.3631, -4.6846, -4.6928, -5.1029, -5.1965, -4.97, -4.8806, -5.1182, -5.0194, -4.5639, -4.7535, -4.8596, -4.961, -5.1198, -4.5571, -4.6247, -5.2434, -5.3136, -5.3317, -5.3358, -5.3617, -5.3635, -5.3867, -5.4692, -5.4842, -5.5074, -5.5338, -5.616, -5.7113, -5.8041, -5.853, -5.8708, -5.8759, -5.8846, -5.9045, -5.976, -5.9952, -6.0058, -6.0152, -6.05, -6.0868, -6.0931, -6.1347, -6.1548, -4.7331, -5.5906, -5.8563, -5.3771, -5.1946, -4.5484, -4.845, -3.4137, -4.2263, -5.0789, -5.2562, -5.68, -4.7327, -4.6045, -5.125, -5.3464, -4.8995, -5.1735, -5.2616, -4.9801, -4.1864, -4.644, -5.2943, -4.9582, -5.1906, -4.898, -5.0504, -4.9764, -4.7319, -5.1245, -4.9992, -5.2, -5.2244, -2.7795, -2.9173, -4.1558, -4.1778, -4.2918, -4.7014, -4.7484, -4.7566, -4.8547, -4.9611, -5.0384, -5.0211, -5.0866, -5.1486, -5.1577, -5.1754, -5.1638, -5.3823, -5.4171, -5.422, -5.4364, -5.478, -5.5869, -5.6364, -5.6425, -5.6562, -5.7065, -5.728, -5.7747, -5.7732, -4.8349, -3.8792, -4.7409, -3.9349, -3.7892, -3.7078, -4.2781, -5.2825, -4.8823, -5.2703, -5.3149, -5.0322, -5.219, -4.4209, -4.5856, -4.6777, -4.6933, -4.7233, -4.8692, -4.9621, -4.9972, -5.0087, -5.0189, -5.0471, -5.0834, -5.1774, -5.2188, -5.379, -5.4485, -5.4381, -5.5233, -5.5146, -5.5307, -5.5763, -5.5701, -5.5732, -5.6209, -5.6296, -5.6268, -5.6405, -5.7004, -5.7004, -5.663, -4.8054, -5.1369, -3.9209, -3.895, -3.6783, -4.7626, -4.7081, -4.1784, -5.0742, -5.0715, -5.0061, -4.5617, -4.9329, -5.1693, -5.1452, -5.3189, -5.3182], \"loglift\": [30.0, 29.0, 28.0, 27.0, 26.0, 25.0, 24.0, 23.0, 22.0, 21.0, 20.0, 19.0, 18.0, 17.0, 16.0, 15.0, 14.0, 13.0, 12.0, 11.0, 10.0, 9.0, 8.0, 7.0, 6.0, 5.0, 4.0, 3.0, 2.0, 1.0, 1.1341, 1.134, 1.134, 1.134, 1.134, 1.1339, 1.1339, 1.1339, 1.1339, 1.1339, 1.1338, 1.1338, 1.1338, 1.1338, 1.1338, 1.1338, 1.1338, 1.1337, 1.1337, 1.1337, 1.1337, 1.1337, 1.1337, 1.1337, 1.1337, 1.1337, 1.1336, 1.1336, 1.1336, 1.1336, 1.1335, 1.1199, 1.0914, 1.0389, 1.1063, 0.9497, 1.0124, 0.9199, 0.8399, 0.9358, 0.9277, 0.8282, 1.0899, 0.7551, 0.7852, 0.6954, 0.3633, 0.7252, 0.2224, 0.6692, 1.4335, 1.4335, 1.4335, 1.4334, 1.4334, 1.4334, 1.4333, 1.4332, 1.4332, 1.4331, 1.4331, 1.433, 1.4329, 1.4329, 1.4328, 1.4328, 1.4328, 1.4328, 1.4328, 1.4328, 1.4327, 1.4327, 1.4327, 1.4326, 1.4325, 1.4325, 1.4325, 1.4324, 1.4324, 1.4323, 1.4322, 1.4308, 1.4291, 1.3905, 1.4064, 1.3953, 1.4143, 1.4213, 1.3575, 1.363, 1.3551, 1.2787, 1.3729, 1.2167, 1.2576, 1.2344, 1.2799, 1.2734, 0.8959, 0.8238, 1.0445, 1.1056, 0.8138, 0.6403, 0.8769, 0.7151, -0.0658, 0.0883, -0.0938, 0.2799, 0.6031, 1.4929, 1.4929, 1.4927, 1.4926, 1.4926, 1.4926, 1.4926, 1.4926, 1.4926, 1.4925, 1.4925, 1.4925, 1.4925, 1.4924, 1.4924, 1.4923, 1.4922, 1.4922, 1.4922, 1.4922, 1.4922, 1.4921, 1.4921, 1.4921, 1.4921, 1.492, 1.492, 1.492, 1.4919, 1.4919, 1.4863, 1.4916, 1.489, 1.4721, 1.452, 1.4039, 1.4191, 1.3236, 1.3772, 1.3977, 1.4067, 1.4635, 1.2134, 1.1649, 1.2697, 1.3311, 1.1297, 1.2248, 1.2613, 0.9925, 0.3118, 0.5189, 1.2415, 0.7647, 1.0917, 0.6229, 0.8433, 0.604, -0.1623, 0.7741, 0.3561, 0.8652, 0.9457, 2.0228, 2.0228, 2.0226, 2.0225, 2.0225, 2.0223, 2.0223, 2.0223, 2.0223, 2.0222, 2.0221, 2.0221, 2.0221, 2.022, 2.022, 2.022, 2.022, 2.0218, 2.0218, 2.0218, 2.0218, 2.0217, 2.0216, 2.0216, 2.0215, 2.0215, 2.0215, 2.0214, 2.0214, 2.0213, 1.87, 1.6833, 1.7595, 1.4292, 1.3736, 1.058, 1.2385, 1.8181, 1.3161, 1.7773, 1.806, 1.2267, 1.0711, 2.489, 2.4889, 2.4889, 2.4888, 2.4888, 2.4887, 2.4886, 2.4886, 2.4885, 2.4885, 2.4885, 2.4885, 2.4883, 2.4883, 2.488, 2.4879, 2.4879, 2.4878, 2.4878, 2.4878, 2.4877, 2.4877, 2.4877, 2.4876, 2.4876, 2.4876, 2.4876, 2.4874, 2.4874, 2.4874, 2.3886, 2.4145, 2.1647, 1.9164, 1.6858, 2.0732, 1.8635, 1.2672, 1.9736, 1.8774, 1.7258, 0.7443, 1.3862, 1.8035, 1.6686, 2.1172, -0.7486]}, \"token.table\": {\"Topic\": [2, 1, 4, 1, 3, 2, 5, 3, 3, 3, 5, 2, 2, 1, 4, 1, 2, 5, 4, 2, 4, 1, 2, 1, 2, 3, 4, 5, 2, 1, 1, 3, 2, 3, 4, 5, 2, 1, 2, 2, 3, 4, 5, 5, 1, 4, 2, 1, 2, 4, 5, 1, 3, 4, 4, 1, 1, 1, 2, 4, 5, 5, 5, 3, 3, 1, 3, 3, 3, 4, 2, 2, 1, 2, 4, 5, 4, 5, 5, 1, 2, 4, 5, 1, 2, 5, 1, 3, 3, 5, 5, 1, 4, 2, 3, 4, 3, 3, 5, 3, 1, 2, 3, 1, 3, 4, 2, 3, 4, 5, 5, 4, 1, 3, 4, 4, 2, 4, 3, 1, 2, 3, 4, 4, 3, 2, 4, 4, 1, 2, 2, 3, 4, 1, 2, 4, 4, 1, 2, 3, 1, 2, 3, 2, 1, 2, 3, 4, 1, 2, 3, 3, 1, 5, 2, 1, 2, 2, 2, 1, 3, 5, 2, 5, 2, 3, 4, 4, 1, 4, 3, 5, 1, 2, 3, 4, 1, 2, 3, 3, 4, 2, 4, 5, 2, 3, 4, 5, 2, 5, 1, 4, 3, 4, 5, 4, 2, 5, 4, 1, 2, 3, 3, 4, 3, 1, 2, 5, 2, 4, 2, 1, 1, 1, 1, 2, 3, 1, 2, 2, 2, 1, 3, 4, 5, 4, 3, 1, 2, 1, 2, 3, 4, 1, 1, 2, 3, 3, 1, 2, 3, 5, 5, 5, 1, 2, 3, 5, 1, 2, 3, 5, 5, 4, 2, 1, 2, 3, 4, 3, 4, 3, 1, 2, 5, 1, 2, 2, 4, 4, 5, 1, 2, 3, 4, 1, 2, 3, 3, 4, 4, 1, 2, 1, 2, 3, 3, 2, 3, 1, 2, 4, 2, 1, 3, 3, 5, 3, 4, 4, 1, 2, 4, 1, 2, 3, 1, 2, 3, 4, 1, 2, 3, 4, 5, 4, 5, 2, 1, 5, 1, 2, 3, 4, 5, 1, 1, 2, 4, 4, 1, 2, 5, 2, 1, 3, 5, 1, 2, 5, 3, 1, 3, 2, 3, 2, 4, 3, 4, 1, 1, 3, 1, 1, 2, 3, 4, 1, 2, 2, 2, 4, 5, 2, 3, 4, 5, 2, 3, 4, 5, 1, 2, 3, 4, 5, 5, 4, 5, 1, 1, 3, 4, 5, 3, 2, 4, 1, 2, 2, 5, 4, 5, 1, 2, 3, 4, 4, 5, 3, 1, 1, 2, 5, 1, 2, 3, 3], \"Freq\": [0.9996652838534963, 0.999693501475285, 0.9993349674961761, 0.304531120202064, 0.6952828293628097, 0.9995364000775514, 0.9974249232094513, 0.9991060867117658, 0.999626884149567, 0.9932556772367704, 0.006674544660137895, 0.9995575423898255, 0.9988450626448676, 0.9997996493151133, 0.9995186641687627, 0.8199878533745081, 0.0053550227159151545, 0.17454027164685956, 0.9998891305836385, 0.5434943973897327, 0.45652703087468993, 0.9992365825404645, 0.9993966734655501, 0.06068343852563912, 0.43570201050207835, 0.4826745465993304, 0.003554678407359614, 0.017265580835746697, 0.9981432489261802, 0.9994629177905084, 0.279815659083055, 0.7200199516519296, 0.3212308587165751, 0.058955310540924365, 0.17988928088128203, 0.4398973171130511, 0.9991473704740773, 0.8315859572043904, 0.16838164067521016, 0.8520783735029738, 0.14749945098528447, 0.8581110506719001, 0.14166288277284922, 0.998655845847258, 0.1842540507334255, 0.8145438636248153, 0.9998343192368048, 0.42772337522015047, 0.20233896737246343, 0.03825543118887122, 0.33185434284322024, 0.9997681102498319, 0.9993506523860096, 0.9985127176644437, 0.9991588417387711, 0.9994923862701421, 0.9995300068261802, 0.99949304950271, 0.0723758072859343, 0.7685095262193482, 0.15911627861335176, 0.9993997665045706, 0.9984865470926351, 0.999356494347848, 0.9997671132960924, 0.0009885204251702776, 0.9984056294219803, 0.9991242643920369, 0.9989363679054003, 0.9993314415685494, 0.9988608883218449, 0.9991979196602522, 0.8071133080175023, 0.14618407883961348, 0.04662386150869491, 0.9995890073517955, 0.07111924128139031, 0.9277109918261359, 0.9974759017363621, 0.9582121396012068, 0.014252204082619126, 0.02751006834552064, 0.997381951103283, 0.2795671377158054, 0.7204404359288988, 0.9982617401007072, 0.999750999758078, 0.9995785950736481, 0.9987010250448863, 0.9987831973583252, 0.9989495246530442, 0.9993156915645846, 0.9993594264586187, 0.5730098851277655, 0.21600372633088544, 0.21100364007322606, 0.9978614532682023, 0.9989401061316977, 0.9996645798337087, 0.9989873454174276, 0.9995962890226545, 0.9959993242037517, 0.004344599015065438, 0.039490252695468235, 0.5090336968327939, 0.4508832148416648, 0.3361763464414815, 0.1703347952200459, 0.4934398863928428, 0.9987838366084391, 0.9986786705525703, 0.997934727055279, 0.9994791329758935, 0.19421883292293013, 0.8046208792521391, 0.9992130692635292, 0.28784958737927097, 0.7121628033357921, 0.9988598257771859, 0.12676427389085165, 0.013422099588443117, 0.7998577125112954, 0.06015089074820804, 0.9976471058281494, 0.9986678283321943, 0.9316553605625928, 0.06802869282202258, 0.9995365892658283, 0.1611778151993319, 0.8386283197090237, 0.8195605852431079, 0.18059668377281013, 0.9989142347273714, 0.9091240737691764, 0.08574548882655586, 0.00507182188992567, 0.9984633334223016, 0.07957104964865641, 0.1431133986486626, 0.7773919814595353, 0.2282090154986231, 0.015552492015900601, 0.7560415506505149, 0.9993929078677013, 0.44054975582083106, 0.11327143112059986, 0.05999356430893431, 0.38592874950971173, 0.19496676969070004, 0.8049342348658901, 0.9992736817921831, 0.9996676988413431, 0.7053830097251101, 0.29458302997521646, 0.9996543743541629, 0.6844318545223772, 0.3154815329436479, 0.9995730788335688, 0.9989085587198916, 0.0591495053256497, 0.9171423298295794, 0.02339980430465263, 0.4962575849990505, 0.5033469790704655, 0.3680534561289522, 0.487307618723366, 0.14467890791911114, 0.9998070422599986, 0.21678326363792433, 0.7821387353280177, 0.9146870132694176, 0.0852728465582872, 0.0024283698429979892, 0.9246018177214844, 0.0686014480646932, 0.004249647225246482, 0.9998053753032726, 0.857312820097771, 0.1422998738277038, 0.9089923696229839, 0.09062950628881976, 0.998264403471486, 0.0010280786853465356, 0.9985614971571208, 0.6777001282226841, 0.22900519796757368, 0.09354280120370383, 0.9990638119519485, 0.30984029120735285, 0.6886904654563434, 0.9995226122857057, 0.9989060672110418, 0.9990965831292763, 0.9993212675531882, 0.9989310096401384, 0.9988819256826825, 0.9984932591567398, 0.997479839411264, 0.9994081675546619, 0.628159850695983, 0.3718231418638594, 0.9990500651706579, 0.7927879280223292, 0.20681424209278151, 0.9991161405055629, 0.47150019687287076, 0.06268097151928857, 0.4659285549600451, 0.9967562711277432, 0.0019316981998599675, 0.9998884384418054, 0.9995543751136, 0.9998745504805764, 0.9995402105969592, 0.06478306369972407, 0.9266604449480802, 0.008316744664153766, 0.018516379778403376, 0.9804423092664587, 0.9995992691049909, 0.9997286793656266, 0.020362195404980854, 0.978951702162541, 0.9992868608344703, 0.9982080461114899, 0.9992136198435393, 0.9992792931429391, 0.9997567752779045, 0.998057174984009, 0.6448671323363553, 0.0028129427800931525, 0.32067547693061943, 0.03146979735229215, 0.9997324633632354, 0.23069781413960036, 0.19099078933071906, 0.5785313514654006, 0.9992968345097916, 0.06812086092777377, 0.3249593222248347, 0.606243068543824, 0.0006518742672514237, 0.9989650289898331, 0.9989939846183392, 0.46263667232452876, 0.223298106800083, 0.30685770573629845, 0.0072368581221543766, 0.9997324784804842, 0.199549225253878, 0.7647724057854874, 0.03591886054569804, 0.999183071496302, 0.9994764314680413, 0.9986418462468644, 0.9993013882986742, 0.10006487538326589, 0.3774911168444074, 0.5225126753708796, 0.95992180072431, 0.03965033420713339, 0.9996287326324653, 0.07736577052515255, 0.3257003425811978, 0.5969581059039549, 0.04214677940959376, 0.9577410408371629, 0.9625024455764171, 0.03703997141370484, 0.9994371330726538, 0.9969793384664726, 0.00036533143075586814, 0.8563368736917549, 0.00986394863040844, 0.13334597222589187, 0.8853110326075214, 0.015966142511740455, 0.09880496887700252, 0.8904545464126377, 0.10950427873394279, 0.9998990682272815, 0.9856344797966694, 0.013977951610761504, 0.4913914546406761, 0.4875384113476232, 0.02106330333535569, 0.9996369758082062, 0.9998834823061976, 0.9991903668288162, 0.6642987628294327, 0.28165933725494163, 0.05382822889761107, 0.998624701358402, 0.028380807434712826, 0.971254298876839, 0.9954427976935442, 0.003858305417416838, 0.9287166723167002, 0.07110418862734717, 0.9999511202855746, 0.40181028538843494, 0.21704190615740263, 0.3810421245566619, 0.0048442356906472795, 0.5839505932543902, 0.4110994561108396, 0.43958846664287976, 0.5380843477507073, 0.007825700142813696, 0.014571993369377229, 0.7449992695048584, 0.021315457210744577, 0.19103778191885365, 0.0034457318047444244, 0.03926531591452948, 0.9992135198030441, 0.9990260229585692, 0.9988050733990778, 0.33997766211836744, 0.6590930586067442, 0.13314724135025127, 0.018669043804981852, 0.8439924067368954, 0.004169735672178688, 0.999333712543121, 0.9996352256583062, 0.9726261574959998, 0.022816652903615925, 0.004244958679742498, 0.9989913475081313, 0.42662458693734095, 0.009431232741137576, 0.5636548508821045, 0.9985566405401524, 0.45594978446871687, 0.0017303597133537642, 0.542467770136405, 0.8133939489341697, 0.1865076127170946, 0.9996958371694705, 0.9984970458290867, 0.9995739888296681, 0.9991606824228517, 0.9407687770656935, 0.058750972466872775, 0.9876609698220387, 0.012031307495063594, 0.999205341817098, 0.9988589810062966, 0.9994221607727728, 0.9568316156841133, 0.04325258681703269, 0.9999043525737427, 0.7364205682946073, 0.2604824752996354, 0.0031560881498340315, 0.998624504044138, 0.9998115310669391, 0.9987243330137291, 0.9992185492072597, 0.2960360456962355, 0.16907870345376175, 0.5345260063573309, 0.45228120237095015, 0.4188787832967653, 0.09232345644728111, 0.03651444569600332, 0.46592239229635074, 0.5219415034580323, 0.010541230594940063, 0.0015058900849914375, 0.024313823491512822, 0.4415819413532108, 0.533831448129833, 0.9991224714950916, 0.9976518267986398, 0.9991739351797154, 0.27734965884545415, 0.7225688480447359, 0.9993918276051429, 0.10750566177613356, 0.8501521351499151, 0.04221081198572115, 0.9987640412877639, 0.9989691399733959, 0.9995261008915983, 0.999733186077233, 0.9996541528310311, 0.9990890947891851, 0.9995564556430774, 0.9991047549733414, 0.0950815222157849, 0.9043800601454889, 0.9995742074049812, 0.32694626650471775, 0.6694402494872413, 0.0035537637663556275, 0.5522621854191292, 0.4476267681431863, 0.9990897303473723, 0.9997733911274542, 0.9998676819741678, 0.9996695765376106, 0.9984786819160832, 0.010950857844142564, 0.9733627876082103, 0.016005099926054516, 0.9994454393786583], \"Term\": [\"absolutely\", \"access\", \"activity\", \"airport\", \"airport\", \"amazing\", \"annoying\", \"arrival\", \"arrived\", \"asked\", \"asked\", \"atmosphere\", \"balcony\", \"barcelona\", \"bartender\", \"bathroom\", \"bathroom\", \"bathroom\", \"beach\", \"beautiful\", \"beautiful\", \"bedroom\", \"believe\", \"better\", \"better\", \"better\", \"better\", \"better\", \"birthday\", \"block\", \"booked\", \"booked\", \"bottle\", \"bottle\", \"bottle\", \"bottle\", \"bread\", \"breakfast\", \"breakfast\", \"breeze\", \"breeze\", \"bring\", \"bring\", \"broken\", \"brought\", \"brought\", \"buffet\", \"building\", \"building\", \"building\", \"building\", \"business\", \"called\", \"carte\", \"casino\", \"center\", \"central\", \"centre\", \"chair\", \"chair\", \"chair\", \"change\", \"channel\", \"charge\", \"check\", \"check-in\", \"check-in\", \"checked\", \"checking\", \"chicken\", \"chocolate\", \"choose\", \"clean\", \"clean\", \"clean\", \"cleaned\", \"cleaning\", \"cleaning\", \"clearly\", \"close\", \"close\", \"close\", \"clothes\", \"coffee\", \"coffee\", \"colonial\", \"comfortable\", \"complain\", \"completely\", \"complex\", \"construction\", \"corner\", \"country\", \"couple\", \"couple\", \"couple\", \"crowded\", \"customer\", \"daily\", \"decided\", \"decor\", \"didnt\", \"didnt\", \"different\", \"different\", \"different\", \"dinner\", \"dinner\", \"dinner\", \"dirty\", \"disappointing\", \"disco\", \"distance\", \"dollar\", \"dollar\", \"dominican\", \"drink\", \"drink\", \"driver\", \"early\", \"early\", \"early\", \"early\", \"employee\", \"ended\", \"enjoyed\", \"enjoyed\", \"entertainment\", \"especially\", \"especially\", \"evening\", \"evening\", \"everyday\", \"excellent\", \"excellent\", \"excellent\", \"excursion\", \"expect\", \"expect\", \"expect\", \"experience\", \"experience\", \"experience\", \"fabulous\", \"family\", \"family\", \"family\", \"family\", \"fantastic\", \"fantastic\", \"finally\", \"flight\", \"floor\", \"floor\", \"fresh\", \"friendly\", \"friendly\", \"fruit\", \"garden\", \"given\", \"given\", \"given\", \"glass\", \"glass\", \"going\", \"going\", \"going\", \"ground\", \"group\", \"group\", \"guest\", \"guest\", \"happy\", \"happy\", \"happy\", \"happy\", \"helpful\", \"holiday\", \"holiday\", \"hour\", \"hour\", \"house\", \"house\", \"housekeeping\", \"husband\", \"husband\", \"husband\", \"inclusive\", \"instead\", \"instead\", \"internet\", \"island\", \"issue\", \"italian\", \"item\", \"japanese\", \"juice\", \"junior\", \"language\", \"large\", \"large\", \"later\", \"leave\", \"leave\", \"leaving\", \"light\", \"light\", \"light\", \"liked\", \"liked\", \"little\", \"located\", \"location\", \"london\", \"looking\", \"looking\", \"looking\", \"lounge\", \"lounge\", \"loved\", \"lovely\", \"luggage\", \"luggage\", \"lunch\", \"luxury\", \"majestic\", \"manager\", \"metro\", \"mexican\", \"minute\", \"minute\", \"minute\", \"minute\", \"modern\", \"money\", \"money\", \"money\", \"month\", \"morning\", \"morning\", \"morning\", \"morning\", \"moved\", \"musty\", \"night\", \"night\", \"night\", \"night\", \"noise\", \"nothing\", \"nothing\", \"nothing\", \"notice\", \"ocean\", \"palace\", \"parking\", \"people\", \"people\", \"people\", \"person\", \"person\", \"phone\", \"pillow\", \"pillow\", \"pillow\", \"place\", \"place\", \"plenty\", \"plenty\", \"pool\", \"pressure\", \"pretty\", \"pretty\", \"pretty\", \"pretty\", \"price\", \"price\", \"price\", \"problem\", \"problem\", \"punta\", \"quiet\", \"quiet\", \"quite\", \"quite\", \"quite\", \"ready\", \"really\", \"received\", \"recommend\", \"recommend\", \"recommend\", \"relax\", \"request\", \"request\", \"requested\", \"requested\", \"reservation\", \"reservation\", \"resort\", \"restaurant\", \"restaurant\", \"restaurant\", \"review\", \"review\", \"review\", \"right\", \"right\", \"right\", \"right\", \"room\", \"room\", \"room\", \"room\", \"room\", \"royal\", \"running\", \"selection\", \"served\", \"served\", \"service\", \"service\", \"service\", \"service\", \"sheet\", \"shopping\", \"short\", \"short\", \"short\", \"show\", \"shower\", \"shower\", \"shower\", \"sight\", \"sleep\", \"sleep\", \"sleep\", \"small\", \"small\", \"smell\", \"smile\", \"spacious\", \"spanish\", \"special\", \"special\", \"spend\", \"spend\", \"spoke\", \"sport\", \"square\", \"standard\", \"standard\", \"station\", \"stayed\", \"stayed\", \"stayed\", \"steak\", \"street\", \"stuff\", \"swimming\", \"table\", \"table\", \"table\", \"thing\", \"thing\", \"thing\", \"thing\", \"think\", \"think\", \"think\", \"think\", \"time\", \"time\", \"time\", \"tipped\", \"tipping\", \"toilet\", \"towel\", \"towel\", \"train\", \"travel\", \"travel\", \"travel\", \"traveled\", \"upgrade\", \"usually\", \"vacation\", \"value\", \"variety\", \"villa\", \"waited\", \"waiting\", \"waiting\", \"walking\", \"wanted\", \"wanted\", \"wanted\", \"water\", \"water\", \"wedding\", \"weekend\", \"window\", \"wonderful\", \"worst\", \"worth\", \"worth\", \"worth\", \"wrong\"]}, \"R\": 30, \"lambda.step\": 0.01, \"plot.opts\": {\"xlab\": \"PC1\", \"ylab\": \"PC2\"}, \"topic.order\": [2, 5, 3, 4, 1]};\n",
              "\n",
              "function LDAvis_load_lib(url, callback){\n",
              "  var s = document.createElement('script');\n",
              "  s.src = url;\n",
              "  s.async = true;\n",
              "  s.onreadystatechange = s.onload = callback;\n",
              "  s.onerror = function(){console.warn(\"failed to load library \" + url);};\n",
              "  document.getElementsByTagName(\"head\")[0].appendChild(s);\n",
              "}\n",
              "\n",
              "if(typeof(LDAvis) !== \"undefined\"){\n",
              "   // already loaded: just create the visualization\n",
              "   !function(LDAvis){\n",
              "       new LDAvis(\"#\" + \"ldavis_el556015266192963681370736397\", ldavis_el556015266192963681370736397_data);\n",
              "   }(LDAvis);\n",
              "}else if(typeof define === \"function\" && define.amd){\n",
              "   // require.js is available: use it to load d3/LDAvis\n",
              "   require.config({paths: {d3: \"https://d3js.org/d3.v5\"}});\n",
              "   require([\"d3\"], function(d3){\n",
              "      window.d3 = d3;\n",
              "      LDAvis_load_lib(\"https://cdn.jsdelivr.net/gh/bmabey/pyLDAvis@3.4.0/pyLDAvis/js/ldavis.v3.0.0.js\", function(){\n",
              "        new LDAvis(\"#\" + \"ldavis_el556015266192963681370736397\", ldavis_el556015266192963681370736397_data);\n",
              "      });\n",
              "    });\n",
              "}else{\n",
              "    // require.js not available: dynamically load d3 & LDAvis\n",
              "    LDAvis_load_lib(\"https://d3js.org/d3.v5.js\", function(){\n",
              "         LDAvis_load_lib(\"https://cdn.jsdelivr.net/gh/bmabey/pyLDAvis@3.4.0/pyLDAvis/js/ldavis.v3.0.0.js\", function(){\n",
              "                 new LDAvis(\"#\" + \"ldavis_el556015266192963681370736397\", ldavis_el556015266192963681370736397_data);\n",
              "            })\n",
              "         });\n",
              "}\n",
              "</script>"
            ],
            "text/plain": [
              "<IPython.core.display.HTML object>"
            ]
          },
          "execution_count": 48,
          "metadata": {},
          "output_type": "execute_result"
        }
      ],
      "source": [
        "import pyLDAvis.gensim_models\n",
        "import pyLDAvis\n",
        "vis = pyLDAvis.gensim_models.prepare(lda_model, corpus, dictionary)\n",
        "pyLDAvis.display(vis)"
      ]
    },
    {
      "cell_type": "code",
      "execution_count": null,
      "metadata": {},
      "outputs": [],
      "source": [
        "#save the above lda_model,corpus, dictionary to a file\n",
        "\n",
        "import pickle\n",
        "pickle.dump(lda_model, open('lda_model.pkl', 'wb'))\n",
        "corpus = pickle.dump(corpus, open('corpus.pkl', 'wb'))\n",
        "dictionary = pickle.dump(dictionary, open('dictionary.pkl', 'wb'))"
      ]
    },
    {
      "cell_type": "code",
      "execution_count": 2,
      "metadata": {},
      "outputs": [],
      "source": [
        "#load the model,corpus,dictionary from the file\n",
        "lda_model = pickle.load(open('lda_model.pkl', 'rb'))\n",
        "corpus = pickle.load(open('corpus.pkl', 'rb'))\n",
        "dictionary = pickle.load(open('dictionary.pkl', 'rb'))"
      ]
    },
    {
      "cell_type": "code",
      "execution_count": 45,
      "metadata": {},
      "outputs": [
        {
          "name": "stdout",
          "output_type": "stream",
          "text": [
            "Topic: 1\n",
            "[(0, 0.1811513), (1, 0.34806645), (2, 0.17553729), (3, 0.07892642), (4, 0.21631856)]\n"
          ]
        }
      ],
      "source": [
        "\n",
        "# doc = \"There was water all over the floor of the bathroom. The towels were dirty and the toilet was not clean\"\n",
        "# doc=\"The tour was amazing! The guide was very knowledgeable and the scenery was beautiful.\"\n",
        "bow = dictionary.doc2bow(doc.lower().split())\n",
        "topics = lda_model.get_document_topics(bow)\n",
        "\n",
        "\n",
        "#inference of above corpus or topic using loaded lda_model\n",
        "lda_model.get_document_topics(corpus)\n",
        "\n",
        "# Get the topic with the highest probability\n",
        "topic = max(topics, key=lambda item: item[1])[0]\n",
        "print(\"Topic: {}\".format(topic))\n",
        "\n",
        "print(topics)\n"
      ]
    },
    {
      "cell_type": "code",
      "execution_count": 36,
      "metadata": {},
      "outputs": [
        {
          "name": "stdout",
          "output_type": "stream",
          "text": [
            "Topic: 0 \n",
            "Words: 0.025*\"water\" + 0.020*\"shower\" + 0.020*\"towel\" + 0.015*\"floor\" + 0.012*\"change\" + 0.010*\"bathroom\" + 0.010*\"smell\" + 0.009*\"toilet\" + 0.009*\"cleaned\" + 0.009*\"table\"\n",
            "\n",
            "\n",
            "Topic: 1 \n",
            "Words: 0.025*\"location\" + 0.024*\"room\" + 0.020*\"breakfast\" + 0.019*\"clean\" + 0.018*\"stayed\" + 0.016*\"night\" + 0.015*\"excellent\" + 0.013*\"small\" + 0.013*\"helpful\" + 0.013*\"bathroom\"\n",
            "\n",
            "\n",
            "Topic: 2 \n",
            "Words: 0.033*\"service\" + 0.015*\"night\" + 0.015*\"problem\" + 0.011*\"guest\" + 0.010*\"check\" + 0.010*\"booked\" + 0.010*\"arrived\" + 0.010*\"people\" + 0.009*\"room\" + 0.009*\"experience\"\n",
            "\n",
            "\n",
            "Topic: 3 \n",
            "Words: 0.062*\"beach\" + 0.054*\"resort\" + 0.025*\"restaurant\" + 0.023*\"people\" + 0.021*\"drink\" + 0.020*\"water\" + 0.016*\"vacation\" + 0.015*\"punta\" + 0.014*\"beautiful\" + 0.014*\"ocean\"\n",
            "\n",
            "\n",
            "Topic: 4 \n",
            "Words: 0.029*\"really\" + 0.028*\"place\" + 0.021*\"little\" + 0.015*\"buffet\" + 0.012*\"wonderful\" + 0.011*\"lovely\" + 0.011*\"loved\" + 0.010*\"night\" + 0.009*\"review\" + 0.009*\"beautiful\"\n",
            "\n",
            "\n"
          ]
        }
      ],
      "source": [
        "for idx, topic in lda_model.print_topics(-1):\n",
        "    print('Topic: {} \\nWords: {}'.format(idx, topic))\n",
        "    print('\\n')"
      ]
    }
  ],
  "metadata": {
    "accelerator": "GPU",
    "colab": {
      "provenance": []
    },
    "gpuClass": "standard",
    "interpreter": {
      "hash": "11938c6bc6919ae2720b4d5011047913343b08a43b18698fd82dedb0d4417594"
    },
    "kernelspec": {
      "display_name": "Python 3.9.0 64-bit",
      "language": "python",
      "name": "python3"
    },
    "language_info": {
      "codemirror_mode": {
        "name": "ipython",
        "version": 3
      },
      "file_extension": ".py",
      "mimetype": "text/x-python",
      "name": "python",
      "nbconvert_exporter": "python",
      "pygments_lexer": "ipython3",
      "version": "3.9.0"
    },
    "vscode": {
      "interpreter": {
        "hash": "8807d809ecb30b06ce31d476480b5670d7de5a054084e3328a6e4c7aeab9e5f0"
      }
    }
  },
  "nbformat": 4,
  "nbformat_minor": 0
}
